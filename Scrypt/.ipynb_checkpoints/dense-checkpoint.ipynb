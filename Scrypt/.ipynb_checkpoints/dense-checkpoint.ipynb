{
 "cells": [
  {
   "cell_type": "code",
   "execution_count": 3,
   "id": "c2f0a7ad-acc3-4b99-9072-83419ed9d049",
   "metadata": {},
   "outputs": [],
   "source": [
    "from sequana import DNA\n",
    "from sequana import FastA\n",
    "import pandas as pd\n",
    "import numpy as np\n",
    "from sklearn.preprocessing import  StandardScaler\n",
    "import re"
   ]
  },
  {
   "cell_type": "code",
   "execution_count": 37,
   "id": "3d450b3b-5385-4ab0-83eb-03853e022e1f",
   "metadata": {},
   "outputs": [
    {
     "name": "stdout",
     "output_type": "stream",
     "text": [
      "LmjF.01\n",
      "LmjF.02\n",
      "LmjF.03\n",
      "LmjF.04\n",
      "LmjF.05\n",
      "LmjF.06\n",
      "LmjF.07\n",
      "LmjF.08\n",
      "LmjF.09\n",
      "LmjF.10\n",
      "LmjF.11\n",
      "LmjF.12\n",
      "LmjF.13\n",
      "LmjF.14\n",
      "LmjF.15\n",
      "LmjF.16\n",
      "LmjF.17\n",
      "LmjF.18\n",
      "LmjF.19\n",
      "LmjF.20\n",
      "LmjF.21\n",
      "LmjF.22\n",
      "LmjF.23\n",
      "LmjF.24\n",
      "LmjF.25\n",
      "LmjF.26\n",
      "LmjF.27\n",
      "LmjF.28\n",
      "LmjF.29\n",
      "LmjF.30\n",
      "LmjF.31\n",
      "LmjF.32\n",
      "LmjF.33\n",
      "LmjF.34\n",
      "LmjF.35\n",
      "LmjF.36\n"
     ]
    }
   ],
   "source": [
    "def count_homopolymers(seq, min_length=5):\n",
    "    # Ex : trouve AAAAA ou TTTTT, etc.\n",
    "    pattern = re.compile(rf\"(A{{{min_length},}}|T{{{min_length},}}|C{{{min_length},}}|G{{{min_length},}})\")\n",
    "    return len(pattern.findall(seq.upper()))\n",
    "\n",
    "def load_fasta(fasta_path, window_size=100):\n",
    "    f = FastA(fasta_path)\n",
    "    data = []\n",
    "    \n",
    "    for maseq in f:\n",
    "        print(maseq.name)\n",
    "        features = []\n",
    "\n",
    "        s = DNA(maseq.sequence.upper())\n",
    "        seq = maseq.sequence.upper()\n",
    "        s.window = window_size\n",
    "\n",
    "        #Karlin\n",
    "        df_karlin = pd.read_csv(f\"../data/karlin/{maseq.name}_karlin_{window_size}.csv\")\n",
    "        karlin = df_karlin['Karlin'].tolist()\n",
    "        karlin = [karlin[i] for i in range(0, len(karlin), window_size)]\n",
    "\n",
    "        #Entropy\n",
    "        entropy = s.get_entropy(window_size)\n",
    "        entropy = [entropy[i] for i in range(0, len(entropy), window_size)]\n",
    "        \n",
    "        #Z curve \n",
    "        y_vals = [0]\n",
    "        x_vals = [0]\n",
    "        z_vals = [0]\n",
    "        for base in seq:\n",
    "            x = x_vals[-1]\n",
    "            y = y_vals[-1]\n",
    "            z = z_vals[-1]\n",
    "            if base == 'A':\n",
    "                x += 1\n",
    "                y += 1\n",
    "                z += 1\n",
    "            elif base == 'C':\n",
    "                x -= 1\n",
    "                y += 1\n",
    "                z -= 1\n",
    "            elif base == 'G':\n",
    "                x += 1\n",
    "                y -= 1\n",
    "                z -= 1\n",
    "            elif base == 'T':\n",
    "                x -= 1\n",
    "                y -= 1\n",
    "                z += 1\n",
    "            x_vals.append(x)\n",
    "            z_vals.append(z)\n",
    "            y_vals.append(y)\n",
    "        x_vals = [np.mean(x_vals[i:i+window_size]) for i in range(0, len(x_vals), window_size)]\n",
    "        y_vals = [np.mean(y_vals[i:i+window_size]) for i in range(0, len(y_vals), window_size)]\n",
    "        z_vals = [np.mean(z_vals[i:i+window_size]) for i in range(0, len(z_vals), window_size)]\n",
    "\n",
    "   \n",
    "\n",
    "        #homopoly\n",
    "        min_homopolymer_length = 5\n",
    "        homopolymer = []\n",
    "        for i in range(0, len(maseq.sequence), window_size):\n",
    "            window = seq[i:i + window_size]\n",
    "            nb = count_homopolymers(window, min_length=min_homopolymer_length)\n",
    "            homopolymer.append(nb)\n",
    "\n",
    "            \n",
    "        df= pd.DataFrame({\n",
    "            'karlin': karlin,\n",
    "            'x_vals': x_vals,\n",
    "            'y_val': y_vals,\n",
    "            'z_vals': z_vals,\n",
    "            'entropy':entropy,\n",
    "            'homopolymer':homopolymer\n",
    "        })\n",
    "\n",
    "        data.append(df)\n",
    "    return data\n",
    "\n",
    "data = load_fasta(\"../data/Fasta/TriTrypDB-68_LmajorFriedlin_Genome.fasta\")\n",
    "    "
   ]
  },
  {
   "cell_type": "code",
   "execution_count": 160,
   "id": "1a23e93b-aa7c-459e-a4f1-a95339b17ea9",
   "metadata": {
    "scrolled": true
   },
   "outputs": [
    {
     "name": "stderr",
     "output_type": "stream",
     "text": [
      "  0%|▏                                          | 2/500 [00:00<00:59,  8.43it/s]"
     ]
    },
    {
     "name": "stdout",
     "output_type": "stream",
     "text": [
      "Epoch 1, Loss: 1.2956979274749756\n",
      "Epoch 2, Loss: 1.28045654296875\n"
     ]
    },
    {
     "name": "stderr",
     "output_type": "stream",
     "text": [
      "  1%|▎                                          | 4/500 [00:00<00:55,  8.92it/s]"
     ]
    },
    {
     "name": "stdout",
     "output_type": "stream",
     "text": [
      "Epoch 3, Loss: 1.2651751041412354\n",
      "Epoch 4, Loss: 1.2499064207077026\n"
     ]
    },
    {
     "name": "stderr",
     "output_type": "stream",
     "text": [
      "  1%|▌                                          | 6/500 [00:00<00:54,  9.10it/s]"
     ]
    },
    {
     "name": "stdout",
     "output_type": "stream",
     "text": [
      "Epoch 5, Loss: 1.2347041368484497\n",
      "Epoch 6, Loss: 1.219624638557434\n"
     ]
    },
    {
     "name": "stderr",
     "output_type": "stream",
     "text": [
      "  2%|▋                                          | 8/500 [00:00<00:54,  9.11it/s]"
     ]
    },
    {
     "name": "stdout",
     "output_type": "stream",
     "text": [
      "Epoch 7, Loss: 1.2047227621078491\n",
      "Epoch 8, Loss: 1.1900542974472046\n"
     ]
    },
    {
     "name": "stderr",
     "output_type": "stream",
     "text": [
      "  2%|▊                                         | 10/500 [00:01<00:55,  8.86it/s]"
     ]
    },
    {
     "name": "stdout",
     "output_type": "stream",
     "text": [
      "Epoch 9, Loss: 1.1756731271743774\n",
      "Epoch 10, Loss: 1.1616290807724\n"
     ]
    },
    {
     "name": "stderr",
     "output_type": "stream",
     "text": [
      "  2%|█                                         | 12/500 [00:01<00:55,  8.74it/s]"
     ]
    },
    {
     "name": "stdout",
     "output_type": "stream",
     "text": [
      "Epoch 11, Loss: 1.1479687690734863\n",
      "Epoch 12, Loss: 1.134736180305481\n"
     ]
    },
    {
     "name": "stderr",
     "output_type": "stream",
     "text": [
      "  3%|█▏                                        | 14/500 [00:01<00:54,  8.91it/s]"
     ]
    },
    {
     "name": "stdout",
     "output_type": "stream",
     "text": [
      "Epoch 13, Loss: 1.1219685077667236\n",
      "Epoch 14, Loss: 1.1096969842910767\n"
     ]
    },
    {
     "name": "stderr",
     "output_type": "stream",
     "text": [
      "  3%|█▎                                        | 16/500 [00:01<00:57,  8.41it/s]"
     ]
    },
    {
     "name": "stdout",
     "output_type": "stream",
     "text": [
      "Epoch 15, Loss: 1.0979458093643188\n",
      "Epoch 16, Loss: 1.0867329835891724\n"
     ]
    },
    {
     "name": "stderr",
     "output_type": "stream",
     "text": [
      "  4%|█▌                                        | 18/500 [00:02<00:56,  8.52it/s]"
     ]
    },
    {
     "name": "stdout",
     "output_type": "stream",
     "text": [
      "Epoch 17, Loss: 1.07606840133667\n",
      "Epoch 18, Loss: 1.0659537315368652\n"
     ]
    },
    {
     "name": "stderr",
     "output_type": "stream",
     "text": [
      "  4%|█▋                                        | 20/500 [00:02<00:56,  8.48it/s]"
     ]
    },
    {
     "name": "stdout",
     "output_type": "stream",
     "text": [
      "Epoch 19, Loss: 1.0563839673995972\n",
      "Epoch 20, Loss: 1.0473475456237793\n"
     ]
    },
    {
     "name": "stderr",
     "output_type": "stream",
     "text": [
      "  4%|█▊                                        | 22/500 [00:02<00:55,  8.57it/s]"
     ]
    },
    {
     "name": "stdout",
     "output_type": "stream",
     "text": [
      "Epoch 21, Loss: 1.0388267040252686\n",
      "Epoch 22, Loss: 1.030799388885498\n"
     ]
    },
    {
     "name": "stderr",
     "output_type": "stream",
     "text": [
      "  5%|██                                        | 24/500 [00:02<00:55,  8.62it/s]"
     ]
    },
    {
     "name": "stdout",
     "output_type": "stream",
     "text": [
      "Epoch 23, Loss: 1.023240327835083\n",
      "Epoch 24, Loss: 1.0161205530166626\n"
     ]
    },
    {
     "name": "stderr",
     "output_type": "stream",
     "text": [
      "  5%|██▏                                       | 26/500 [00:02<00:55,  8.54it/s]"
     ]
    },
    {
     "name": "stdout",
     "output_type": "stream",
     "text": [
      "Epoch 25, Loss: 1.0094106197357178\n",
      "Epoch 26, Loss: 1.003080129623413\n"
     ]
    },
    {
     "name": "stderr",
     "output_type": "stream",
     "text": [
      "  6%|██▎                                       | 28/500 [00:03<00:56,  8.29it/s]"
     ]
    },
    {
     "name": "stdout",
     "output_type": "stream",
     "text": [
      "Epoch 27, Loss: 0.997098445892334\n",
      "Epoch 28, Loss: 0.9914367198944092\n"
     ]
    },
    {
     "name": "stderr",
     "output_type": "stream",
     "text": [
      "  6%|██▌                                       | 30/500 [00:03<00:54,  8.70it/s]"
     ]
    },
    {
     "name": "stdout",
     "output_type": "stream",
     "text": [
      "Epoch 29, Loss: 0.9860665798187256\n",
      "Epoch 30, Loss: 0.9809614419937134\n"
     ]
    },
    {
     "name": "stderr",
     "output_type": "stream",
     "text": [
      "  6%|██▋                                       | 32/500 [00:03<00:53,  8.81it/s]"
     ]
    },
    {
     "name": "stdout",
     "output_type": "stream",
     "text": [
      "Epoch 31, Loss: 0.9760971069335938\n",
      "Epoch 32, Loss: 0.9714505672454834\n"
     ]
    },
    {
     "name": "stderr",
     "output_type": "stream",
     "text": [
      "  7%|██▊                                       | 34/500 [00:03<00:51,  9.02it/s]"
     ]
    },
    {
     "name": "stdout",
     "output_type": "stream",
     "text": [
      "Epoch 33, Loss: 0.9670010805130005\n",
      "Epoch 34, Loss: 0.9627305865287781\n"
     ]
    },
    {
     "name": "stderr",
     "output_type": "stream",
     "text": [
      "  7%|███                                       | 36/500 [00:04<00:50,  9.10it/s]"
     ]
    },
    {
     "name": "stdout",
     "output_type": "stream",
     "text": [
      "Epoch 35, Loss: 0.9586220383644104\n",
      "Epoch 36, Loss: 0.954660177230835\n"
     ]
    },
    {
     "name": "stderr",
     "output_type": "stream",
     "text": [
      "  8%|███▏                                      | 38/500 [00:04<00:51,  9.03it/s]"
     ]
    },
    {
     "name": "stdout",
     "output_type": "stream",
     "text": [
      "Epoch 37, Loss: 0.9508314728736877\n",
      "Epoch 38, Loss: 0.9471237063407898\n"
     ]
    },
    {
     "name": "stderr",
     "output_type": "stream",
     "text": [
      "  8%|███▎                                      | 40/500 [00:04<00:50,  9.07it/s]"
     ]
    },
    {
     "name": "stdout",
     "output_type": "stream",
     "text": [
      "Epoch 39, Loss: 0.9435257315635681\n",
      "Epoch 40, Loss: 0.9400278925895691\n"
     ]
    },
    {
     "name": "stderr",
     "output_type": "stream",
     "text": [
      "  8%|███▌                                      | 42/500 [00:04<00:50,  9.09it/s]"
     ]
    },
    {
     "name": "stdout",
     "output_type": "stream",
     "text": [
      "Epoch 41, Loss: 0.9366215467453003\n",
      "Epoch 42, Loss: 0.9332991242408752\n"
     ]
    },
    {
     "name": "stderr",
     "output_type": "stream",
     "text": [
      "  9%|███▋                                      | 44/500 [00:05<00:52,  8.71it/s]"
     ]
    },
    {
     "name": "stdout",
     "output_type": "stream",
     "text": [
      "Epoch 43, Loss: 0.9300534725189209\n",
      "Epoch 44, Loss: 0.9268786311149597\n"
     ]
    },
    {
     "name": "stderr",
     "output_type": "stream",
     "text": [
      "  9%|███▊                                      | 46/500 [00:05<00:53,  8.41it/s]"
     ]
    },
    {
     "name": "stdout",
     "output_type": "stream",
     "text": [
      "Epoch 45, Loss: 0.9237690567970276\n",
      "Epoch 46, Loss: 0.9207199215888977\n"
     ]
    },
    {
     "name": "stderr",
     "output_type": "stream",
     "text": [
      " 10%|████                                      | 48/500 [00:05<00:51,  8.77it/s]"
     ]
    },
    {
     "name": "stdout",
     "output_type": "stream",
     "text": [
      "Epoch 47, Loss: 0.9177269339561462\n",
      "Epoch 48, Loss: 0.9147858619689941\n"
     ]
    },
    {
     "name": "stderr",
     "output_type": "stream",
     "text": [
      " 10%|████▏                                     | 50/500 [00:05<00:50,  8.89it/s]"
     ]
    },
    {
     "name": "stdout",
     "output_type": "stream",
     "text": [
      "Epoch 49, Loss: 0.9118934869766235\n",
      "Epoch 50, Loss: 0.9090464115142822\n"
     ]
    },
    {
     "name": "stderr",
     "output_type": "stream",
     "text": [
      " 10%|████▎                                     | 52/500 [00:05<00:49,  9.07it/s]"
     ]
    },
    {
     "name": "stdout",
     "output_type": "stream",
     "text": [
      "Epoch 51, Loss: 0.9062420129776001\n",
      "Epoch 52, Loss: 0.9034777283668518\n"
     ]
    },
    {
     "name": "stderr",
     "output_type": "stream",
     "text": [
      " 11%|████▌                                     | 54/500 [00:06<00:51,  8.62it/s]"
     ]
    },
    {
     "name": "stdout",
     "output_type": "stream",
     "text": [
      "Epoch 53, Loss: 0.9007510542869568\n",
      "Epoch 54, Loss: 0.8980602025985718\n"
     ]
    },
    {
     "name": "stderr",
     "output_type": "stream",
     "text": [
      " 11%|████▋                                     | 56/500 [00:06<00:51,  8.57it/s]"
     ]
    },
    {
     "name": "stdout",
     "output_type": "stream",
     "text": [
      "Epoch 55, Loss: 0.8954031467437744\n",
      "Epoch 56, Loss: 0.8927783966064453\n"
     ]
    },
    {
     "name": "stderr",
     "output_type": "stream",
     "text": [
      " 12%|████▊                                     | 58/500 [00:06<00:51,  8.63it/s]"
     ]
    },
    {
     "name": "stdout",
     "output_type": "stream",
     "text": [
      "Epoch 57, Loss: 0.8901842832565308\n",
      "Epoch 58, Loss: 0.88761967420578\n"
     ]
    },
    {
     "name": "stderr",
     "output_type": "stream",
     "text": [
      " 12%|█████                                     | 60/500 [00:06<00:51,  8.47it/s]"
     ]
    },
    {
     "name": "stdout",
     "output_type": "stream",
     "text": [
      "Epoch 59, Loss: 0.8850830793380737\n",
      "Epoch 60, Loss: 0.8825737833976746\n"
     ]
    },
    {
     "name": "stderr",
     "output_type": "stream",
     "text": [
      " 12%|█████▏                                    | 62/500 [00:07<00:52,  8.35it/s]"
     ]
    },
    {
     "name": "stdout",
     "output_type": "stream",
     "text": [
      "Epoch 61, Loss: 0.8800904154777527\n",
      "Epoch 62, Loss: 0.8776323199272156\n"
     ]
    },
    {
     "name": "stderr",
     "output_type": "stream",
     "text": [
      " 13%|█████▍                                    | 64/500 [00:07<00:51,  8.39it/s]"
     ]
    },
    {
     "name": "stdout",
     "output_type": "stream",
     "text": [
      "Epoch 63, Loss: 0.8751987218856812\n",
      "Epoch 64, Loss: 0.8727887868881226\n"
     ]
    },
    {
     "name": "stderr",
     "output_type": "stream",
     "text": [
      " 13%|█████▌                                    | 66/500 [00:07<00:51,  8.41it/s]"
     ]
    },
    {
     "name": "stdout",
     "output_type": "stream",
     "text": [
      "Epoch 65, Loss: 0.8704019784927368\n",
      "Epoch 66, Loss: 0.868037760257721\n"
     ]
    },
    {
     "name": "stderr",
     "output_type": "stream",
     "text": [
      " 14%|█████▋                                    | 68/500 [00:07<00:52,  8.22it/s]"
     ]
    },
    {
     "name": "stdout",
     "output_type": "stream",
     "text": [
      "Epoch 67, Loss: 0.8656955361366272\n",
      "Epoch 68, Loss: 0.8633750677108765\n"
     ]
    },
    {
     "name": "stderr",
     "output_type": "stream",
     "text": [
      " 14%|█████▉                                    | 70/500 [00:08<00:53,  8.07it/s]"
     ]
    },
    {
     "name": "stdout",
     "output_type": "stream",
     "text": [
      "Epoch 69, Loss: 0.8610756993293762\n",
      "Epoch 70, Loss: 0.8587970733642578\n"
     ]
    },
    {
     "name": "stderr",
     "output_type": "stream",
     "text": [
      " 14%|██████                                    | 72/500 [00:08<00:51,  8.23it/s]"
     ]
    },
    {
     "name": "stdout",
     "output_type": "stream",
     "text": [
      "Epoch 71, Loss: 0.8565390110015869\n",
      "Epoch 72, Loss: 0.8543011546134949\n"
     ]
    },
    {
     "name": "stderr",
     "output_type": "stream",
     "text": [
      " 15%|██████▏                                   | 74/500 [00:08<00:49,  8.52it/s]"
     ]
    },
    {
     "name": "stdout",
     "output_type": "stream",
     "text": [
      "Epoch 73, Loss: 0.852083146572113\n",
      "Epoch 74, Loss: 0.8498848676681519\n"
     ]
    },
    {
     "name": "stderr",
     "output_type": "stream",
     "text": [
      " 15%|██████▍                                   | 76/500 [00:08<00:48,  8.70it/s]"
     ]
    },
    {
     "name": "stdout",
     "output_type": "stream",
     "text": [
      "Epoch 75, Loss: 0.8477058410644531\n",
      "Epoch 76, Loss: 0.8455461263656616\n"
     ]
    },
    {
     "name": "stderr",
     "output_type": "stream",
     "text": [
      " 16%|██████▌                                   | 78/500 [00:09<00:48,  8.70it/s]"
     ]
    },
    {
     "name": "stdout",
     "output_type": "stream",
     "text": [
      "Epoch 77, Loss: 0.8434054851531982\n",
      "Epoch 78, Loss: 0.8412835597991943\n"
     ]
    },
    {
     "name": "stderr",
     "output_type": "stream",
     "text": [
      " 16%|██████▋                                   | 80/500 [00:09<00:48,  8.66it/s]"
     ]
    },
    {
     "name": "stdout",
     "output_type": "stream",
     "text": [
      "Epoch 79, Loss: 0.8391804099082947\n",
      "Epoch 80, Loss: 0.8370957374572754\n"
     ]
    },
    {
     "name": "stderr",
     "output_type": "stream",
     "text": [
      " 16%|██████▉                                   | 82/500 [00:09<00:48,  8.59it/s]"
     ]
    },
    {
     "name": "stdout",
     "output_type": "stream",
     "text": [
      "Epoch 81, Loss: 0.8350294828414917\n",
      "Epoch 82, Loss: 0.8329814076423645\n"
     ]
    },
    {
     "name": "stderr",
     "output_type": "stream",
     "text": [
      " 17%|███████                                   | 84/500 [00:09<00:48,  8.66it/s]"
     ]
    },
    {
     "name": "stdout",
     "output_type": "stream",
     "text": [
      "Epoch 83, Loss: 0.830951452255249\n",
      "Epoch 84, Loss: 0.8289392590522766\n"
     ]
    },
    {
     "name": "stderr",
     "output_type": "stream",
     "text": [
      " 17%|███████▏                                  | 86/500 [00:09<00:47,  8.80it/s]"
     ]
    },
    {
     "name": "stdout",
     "output_type": "stream",
     "text": [
      "Epoch 85, Loss: 0.8269450068473816\n",
      "Epoch 86, Loss: 0.8249683380126953\n"
     ]
    },
    {
     "name": "stderr",
     "output_type": "stream",
     "text": [
      " 18%|███████▍                                  | 88/500 [00:10<00:46,  8.85it/s]"
     ]
    },
    {
     "name": "stdout",
     "output_type": "stream",
     "text": [
      "Epoch 87, Loss: 0.8230090737342834\n",
      "Epoch 88, Loss: 0.8210672736167908\n"
     ]
    },
    {
     "name": "stderr",
     "output_type": "stream",
     "text": [
      " 18%|███████▌                                  | 90/500 [00:10<00:46,  8.90it/s]"
     ]
    },
    {
     "name": "stdout",
     "output_type": "stream",
     "text": [
      "Epoch 89, Loss: 0.8191425800323486\n",
      "Epoch 90, Loss: 0.8172351121902466\n"
     ]
    },
    {
     "name": "stderr",
     "output_type": "stream",
     "text": [
      " 18%|███████▋                                  | 92/500 [00:10<00:45,  8.97it/s]"
     ]
    },
    {
     "name": "stdout",
     "output_type": "stream",
     "text": [
      "Epoch 91, Loss: 0.8153446316719055\n",
      "Epoch 92, Loss: 0.8134709596633911\n"
     ]
    },
    {
     "name": "stderr",
     "output_type": "stream",
     "text": [
      " 19%|███████▉                                  | 94/500 [00:10<00:45,  8.84it/s]"
     ]
    },
    {
     "name": "stdout",
     "output_type": "stream",
     "text": [
      "Epoch 93, Loss: 0.8116140961647034\n",
      "Epoch 94, Loss: 0.8097736835479736\n"
     ]
    },
    {
     "name": "stderr",
     "output_type": "stream",
     "text": [
      " 19%|████████                                  | 96/500 [00:11<00:45,  8.94it/s]"
     ]
    },
    {
     "name": "stdout",
     "output_type": "stream",
     "text": [
      "Epoch 95, Loss: 0.8079499006271362\n",
      "Epoch 96, Loss: 0.8061423897743225\n"
     ]
    },
    {
     "name": "stderr",
     "output_type": "stream",
     "text": [
      " 20%|████████▏                                 | 98/500 [00:11<00:45,  8.81it/s]"
     ]
    },
    {
     "name": "stdout",
     "output_type": "stream",
     "text": [
      "Epoch 97, Loss: 0.8043510913848877\n",
      "Epoch 98, Loss: 0.8025760054588318\n"
     ]
    },
    {
     "name": "stderr",
     "output_type": "stream",
     "text": [
      " 20%|████████▏                                | 100/500 [00:11<00:46,  8.67it/s]"
     ]
    },
    {
     "name": "stdout",
     "output_type": "stream",
     "text": [
      "Epoch 99, Loss: 0.8008168339729309\n",
      "Epoch 100, Loss: 0.7990736365318298\n"
     ]
    },
    {
     "name": "stderr",
     "output_type": "stream",
     "text": [
      " 20%|████████▎                                | 102/500 [00:11<00:46,  8.62it/s]"
     ]
    },
    {
     "name": "stdout",
     "output_type": "stream",
     "text": [
      "Epoch 101, Loss: 0.7973461747169495\n",
      "Epoch 102, Loss: 0.7956342101097107\n"
     ]
    },
    {
     "name": "stderr",
     "output_type": "stream",
     "text": [
      " 21%|████████▌                                | 104/500 [00:11<00:44,  8.80it/s]"
     ]
    },
    {
     "name": "stdout",
     "output_type": "stream",
     "text": [
      "Epoch 103, Loss: 0.7939378023147583\n",
      "Epoch 104, Loss: 0.7922566533088684\n"
     ]
    },
    {
     "name": "stderr",
     "output_type": "stream",
     "text": [
      " 21%|████████▋                                | 106/500 [00:12<00:44,  8.84it/s]"
     ]
    },
    {
     "name": "stdout",
     "output_type": "stream",
     "text": [
      "Epoch 105, Loss: 0.7905908226966858\n",
      "Epoch 106, Loss: 0.7889400720596313\n"
     ]
    },
    {
     "name": "stderr",
     "output_type": "stream",
     "text": [
      " 22%|████████▊                                | 108/500 [00:12<00:44,  8.84it/s]"
     ]
    },
    {
     "name": "stdout",
     "output_type": "stream",
     "text": [
      "Epoch 107, Loss: 0.7873043417930603\n",
      "Epoch 108, Loss: 0.7856835722923279\n"
     ]
    },
    {
     "name": "stderr",
     "output_type": "stream",
     "text": [
      " 22%|█████████                                | 110/500 [00:12<00:43,  8.92it/s]"
     ]
    },
    {
     "name": "stdout",
     "output_type": "stream",
     "text": [
      "Epoch 109, Loss: 0.7840773463249207\n",
      "Epoch 110, Loss: 0.782485842704773\n"
     ]
    },
    {
     "name": "stderr",
     "output_type": "stream",
     "text": [
      " 22%|█████████▏                               | 112/500 [00:12<00:43,  8.85it/s]"
     ]
    },
    {
     "name": "stdout",
     "output_type": "stream",
     "text": [
      "Epoch 111, Loss: 0.7809087634086609\n",
      "Epoch 112, Loss: 0.7793460488319397\n"
     ]
    },
    {
     "name": "stderr",
     "output_type": "stream",
     "text": [
      " 23%|█████████▎                               | 114/500 [00:13<00:43,  8.79it/s]"
     ]
    },
    {
     "name": "stdout",
     "output_type": "stream",
     "text": [
      "Epoch 113, Loss: 0.7777976989746094\n",
      "Epoch 114, Loss: 0.776263415813446\n"
     ]
    },
    {
     "name": "stderr",
     "output_type": "stream",
     "text": [
      " 23%|█████████▌                               | 116/500 [00:13<00:43,  8.88it/s]"
     ]
    },
    {
     "name": "stdout",
     "output_type": "stream",
     "text": [
      "Epoch 115, Loss: 0.7747430205345154\n",
      "Epoch 116, Loss: 0.7732366323471069\n"
     ]
    },
    {
     "name": "stderr",
     "output_type": "stream",
     "text": [
      " 24%|█████████▋                               | 118/500 [00:13<00:42,  8.90it/s]"
     ]
    },
    {
     "name": "stdout",
     "output_type": "stream",
     "text": [
      "Epoch 117, Loss: 0.7717438340187073\n",
      "Epoch 118, Loss: 0.7702649235725403\n"
     ]
    },
    {
     "name": "stderr",
     "output_type": "stream",
     "text": [
      " 24%|█████████▊                               | 120/500 [00:13<00:42,  8.85it/s]"
     ]
    },
    {
     "name": "stdout",
     "output_type": "stream",
     "text": [
      "Epoch 119, Loss: 0.7687993049621582\n",
      "Epoch 120, Loss: 0.7673471570014954\n"
     ]
    },
    {
     "name": "stderr",
     "output_type": "stream",
     "text": [
      " 24%|██████████                               | 122/500 [00:13<00:42,  8.94it/s]"
     ]
    },
    {
     "name": "stdout",
     "output_type": "stream",
     "text": [
      "Epoch 121, Loss: 0.7659083604812622\n",
      "Epoch 122, Loss: 0.7644826769828796\n"
     ]
    },
    {
     "name": "stderr",
     "output_type": "stream",
     "text": [
      " 25%|██████████▏                              | 124/500 [00:14<00:42,  8.88it/s]"
     ]
    },
    {
     "name": "stdout",
     "output_type": "stream",
     "text": [
      "Epoch 123, Loss: 0.7630699872970581\n",
      "Epoch 124, Loss: 0.7616701722145081\n"
     ]
    },
    {
     "name": "stderr",
     "output_type": "stream",
     "text": [
      " 25%|██████████▎                              | 126/500 [00:14<00:42,  8.89it/s]"
     ]
    },
    {
     "name": "stdout",
     "output_type": "stream",
     "text": [
      "Epoch 125, Loss: 0.7602832913398743\n",
      "Epoch 126, Loss: 0.7589089870452881\n"
     ]
    },
    {
     "name": "stderr",
     "output_type": "stream",
     "text": [
      " 26%|██████████▍                              | 128/500 [00:14<00:41,  8.91it/s]"
     ]
    },
    {
     "name": "stdout",
     "output_type": "stream",
     "text": [
      "Epoch 127, Loss: 0.7575472593307495\n",
      "Epoch 128, Loss: 0.7561981081962585\n"
     ]
    },
    {
     "name": "stderr",
     "output_type": "stream",
     "text": [
      " 26%|██████████▋                              | 130/500 [00:14<00:41,  8.87it/s]"
     ]
    },
    {
     "name": "stdout",
     "output_type": "stream",
     "text": [
      "Epoch 129, Loss: 0.7548611164093018\n",
      "Epoch 130, Loss: 0.7535364627838135\n"
     ]
    },
    {
     "name": "stderr",
     "output_type": "stream",
     "text": [
      " 26%|██████████▊                              | 132/500 [00:15<00:41,  8.87it/s]"
     ]
    },
    {
     "name": "stdout",
     "output_type": "stream",
     "text": [
      "Epoch 131, Loss: 0.7522239089012146\n",
      "Epoch 132, Loss: 0.7509233355522156\n"
     ]
    },
    {
     "name": "stderr",
     "output_type": "stream",
     "text": [
      " 27%|██████████▉                              | 134/500 [00:15<00:41,  8.84it/s]"
     ]
    },
    {
     "name": "stdout",
     "output_type": "stream",
     "text": [
      "Epoch 133, Loss: 0.7496345043182373\n",
      "Epoch 134, Loss: 0.7483576536178589\n"
     ]
    },
    {
     "name": "stderr",
     "output_type": "stream",
     "text": [
      " 27%|███████████▏                             | 136/500 [00:15<00:40,  8.96it/s]"
     ]
    },
    {
     "name": "stdout",
     "output_type": "stream",
     "text": [
      "Epoch 135, Loss: 0.7470925450325012\n",
      "Epoch 136, Loss: 0.7458388805389404\n"
     ]
    },
    {
     "name": "stderr",
     "output_type": "stream",
     "text": [
      " 28%|███████████▎                             | 138/500 [00:15<00:41,  8.81it/s]"
     ]
    },
    {
     "name": "stdout",
     "output_type": "stream",
     "text": [
      "Epoch 137, Loss: 0.744596540927887\n",
      "Epoch 138, Loss: 0.7433657646179199\n"
     ]
    },
    {
     "name": "stderr",
     "output_type": "stream",
     "text": [
      " 28%|███████████▍                             | 140/500 [00:16<00:40,  8.91it/s]"
     ]
    },
    {
     "name": "stdout",
     "output_type": "stream",
     "text": [
      "Epoch 139, Loss: 0.7421459555625916\n",
      "Epoch 140, Loss: 0.7409374117851257\n"
     ]
    },
    {
     "name": "stderr",
     "output_type": "stream",
     "text": [
      " 28%|███████████▋                             | 142/500 [00:16<00:40,  8.89it/s]"
     ]
    },
    {
     "name": "stdout",
     "output_type": "stream",
     "text": [
      "Epoch 141, Loss: 0.7397398948669434\n",
      "Epoch 142, Loss: 0.7385532259941101\n"
     ]
    },
    {
     "name": "stderr",
     "output_type": "stream",
     "text": [
      " 29%|███████████▊                             | 144/500 [00:16<00:40,  8.84it/s]"
     ]
    },
    {
     "name": "stdout",
     "output_type": "stream",
     "text": [
      "Epoch 143, Loss: 0.7373774647712708\n",
      "Epoch 144, Loss: 0.7362123727798462\n"
     ]
    },
    {
     "name": "stderr",
     "output_type": "stream",
     "text": [
      " 29%|███████████▉                             | 146/500 [00:16<00:39,  8.91it/s]"
     ]
    },
    {
     "name": "stdout",
     "output_type": "stream",
     "text": [
      "Epoch 145, Loss: 0.7350577116012573\n",
      "Epoch 146, Loss: 0.7339136004447937\n"
     ]
    },
    {
     "name": "stderr",
     "output_type": "stream",
     "text": [
      " 30%|████████████▏                            | 148/500 [00:16<00:39,  8.87it/s]"
     ]
    },
    {
     "name": "stdout",
     "output_type": "stream",
     "text": [
      "Epoch 147, Loss: 0.732779860496521\n",
      "Epoch 148, Loss: 0.7316564321517944\n"
     ]
    },
    {
     "name": "stderr",
     "output_type": "stream",
     "text": [
      " 30%|████████████▎                            | 150/500 [00:17<00:38,  8.98it/s]"
     ]
    },
    {
     "name": "stdout",
     "output_type": "stream",
     "text": [
      "Epoch 149, Loss: 0.7305431962013245\n",
      "Epoch 150, Loss: 0.7294400334358215\n"
     ]
    },
    {
     "name": "stderr",
     "output_type": "stream",
     "text": [
      " 30%|████████████▍                            | 152/500 [00:17<00:39,  8.88it/s]"
     ]
    },
    {
     "name": "stdout",
     "output_type": "stream",
     "text": [
      "Epoch 151, Loss: 0.7283467650413513\n",
      "Epoch 152, Loss: 0.7272633910179138\n"
     ]
    },
    {
     "name": "stderr",
     "output_type": "stream",
     "text": [
      " 31%|████████████▋                            | 154/500 [00:17<00:39,  8.72it/s]"
     ]
    },
    {
     "name": "stdout",
     "output_type": "stream",
     "text": [
      "Epoch 153, Loss: 0.7261897921562195\n",
      "Epoch 154, Loss: 0.7251259684562683\n"
     ]
    },
    {
     "name": "stderr",
     "output_type": "stream",
     "text": [
      " 31%|████████████▊                            | 156/500 [00:17<00:39,  8.67it/s]"
     ]
    },
    {
     "name": "stdout",
     "output_type": "stream",
     "text": [
      "Epoch 155, Loss: 0.7240716814994812\n",
      "Epoch 156, Loss: 0.7230267524719238\n"
     ]
    },
    {
     "name": "stderr",
     "output_type": "stream",
     "text": [
      " 32%|████████████▉                            | 158/500 [00:18<00:38,  8.89it/s]"
     ]
    },
    {
     "name": "stdout",
     "output_type": "stream",
     "text": [
      "Epoch 157, Loss: 0.7219911813735962\n",
      "Epoch 158, Loss: 0.7209649682044983\n"
     ]
    },
    {
     "name": "stderr",
     "output_type": "stream",
     "text": [
      " 32%|█████████████                            | 160/500 [00:18<00:38,  8.88it/s]"
     ]
    },
    {
     "name": "stdout",
     "output_type": "stream",
     "text": [
      "Epoch 159, Loss: 0.7199479937553406\n",
      "Epoch 160, Loss: 0.7189401388168335\n"
     ]
    },
    {
     "name": "stderr",
     "output_type": "stream",
     "text": [
      " 32%|█████████████▎                           | 162/500 [00:18<00:38,  8.85it/s]"
     ]
    },
    {
     "name": "stdout",
     "output_type": "stream",
     "text": [
      "Epoch 161, Loss: 0.7179412245750427\n",
      "Epoch 162, Loss: 0.7169511318206787\n"
     ]
    },
    {
     "name": "stderr",
     "output_type": "stream",
     "text": [
      " 33%|█████████████▍                           | 164/500 [00:18<00:37,  8.98it/s]"
     ]
    },
    {
     "name": "stdout",
     "output_type": "stream",
     "text": [
      "Epoch 163, Loss: 0.715969979763031\n",
      "Epoch 164, Loss: 0.7149974703788757\n"
     ]
    },
    {
     "name": "stderr",
     "output_type": "stream",
     "text": [
      " 33%|█████████████▌                           | 166/500 [00:18<00:37,  9.01it/s]"
     ]
    },
    {
     "name": "stdout",
     "output_type": "stream",
     "text": [
      "Epoch 165, Loss: 0.7140336632728577\n",
      "Epoch 166, Loss: 0.7130782604217529\n"
     ]
    },
    {
     "name": "stderr",
     "output_type": "stream",
     "text": [
      " 34%|█████████████▊                           | 168/500 [00:19<00:37,  8.89it/s]"
     ]
    },
    {
     "name": "stdout",
     "output_type": "stream",
     "text": [
      "Epoch 167, Loss: 0.7121314406394958\n",
      "Epoch 168, Loss: 0.7111929059028625\n"
     ]
    },
    {
     "name": "stderr",
     "output_type": "stream",
     "text": [
      " 34%|█████████████▉                           | 170/500 [00:19<00:37,  8.84it/s]"
     ]
    },
    {
     "name": "stdout",
     "output_type": "stream",
     "text": [
      "Epoch 169, Loss: 0.710262656211853\n",
      "Epoch 170, Loss: 0.7093406319618225\n"
     ]
    },
    {
     "name": "stderr",
     "output_type": "stream",
     "text": [
      " 34%|██████████████                           | 172/500 [00:19<00:36,  9.00it/s]"
     ]
    },
    {
     "name": "stdout",
     "output_type": "stream",
     "text": [
      "Epoch 171, Loss: 0.7084266543388367\n",
      "Epoch 172, Loss: 0.7075207829475403\n"
     ]
    },
    {
     "name": "stderr",
     "output_type": "stream",
     "text": [
      " 35%|██████████████▎                          | 174/500 [00:19<00:37,  8.78it/s]"
     ]
    },
    {
     "name": "stdout",
     "output_type": "stream",
     "text": [
      "Epoch 173, Loss: 0.7066227793693542\n",
      "Epoch 174, Loss: 0.7057325839996338\n"
     ]
    },
    {
     "name": "stderr",
     "output_type": "stream",
     "text": [
      " 35%|██████████████▍                          | 176/500 [00:20<00:36,  8.87it/s]"
     ]
    },
    {
     "name": "stdout",
     "output_type": "stream",
     "text": [
      "Epoch 175, Loss: 0.7048502564430237\n",
      "Epoch 176, Loss: 0.7039754986763\n"
     ]
    },
    {
     "name": "stderr",
     "output_type": "stream",
     "text": [
      " 36%|██████████████▌                          | 178/500 [00:20<00:36,  8.86it/s]"
     ]
    },
    {
     "name": "stdout",
     "output_type": "stream",
     "text": [
      "Epoch 177, Loss: 0.7031084299087524\n",
      "Epoch 178, Loss: 0.7022488713264465\n"
     ]
    },
    {
     "name": "stderr",
     "output_type": "stream",
     "text": [
      " 36%|██████████████▊                          | 180/500 [00:20<00:36,  8.83it/s]"
     ]
    },
    {
     "name": "stdout",
     "output_type": "stream",
     "text": [
      "Epoch 179, Loss: 0.7013967633247375\n",
      "Epoch 180, Loss: 0.7005519866943359\n"
     ]
    },
    {
     "name": "stderr",
     "output_type": "stream",
     "text": [
      " 36%|██████████████▉                          | 182/500 [00:20<00:35,  8.84it/s]"
     ]
    },
    {
     "name": "stdout",
     "output_type": "stream",
     "text": [
      "Epoch 181, Loss: 0.6997145414352417\n",
      "Epoch 182, Loss: 0.6988842487335205\n"
     ]
    },
    {
     "name": "stderr",
     "output_type": "stream",
     "text": [
      " 37%|███████████████                          | 184/500 [00:20<00:35,  8.90it/s]"
     ]
    },
    {
     "name": "stdout",
     "output_type": "stream",
     "text": [
      "Epoch 183, Loss: 0.6980611085891724\n",
      "Epoch 184, Loss: 0.6972450613975525\n"
     ]
    },
    {
     "name": "stderr",
     "output_type": "stream",
     "text": [
      " 37%|███████████████▎                         | 186/500 [00:21<00:35,  8.94it/s]"
     ]
    },
    {
     "name": "stdout",
     "output_type": "stream",
     "text": [
      "Epoch 185, Loss: 0.6964359283447266\n",
      "Epoch 186, Loss: 0.6956337094306946\n"
     ]
    },
    {
     "name": "stderr",
     "output_type": "stream",
     "text": [
      " 38%|███████████████▍                         | 188/500 [00:21<00:35,  8.90it/s]"
     ]
    },
    {
     "name": "stdout",
     "output_type": "stream",
     "text": [
      "Epoch 187, Loss: 0.6948383450508118\n",
      "Epoch 188, Loss: 0.6940496563911438\n"
     ]
    },
    {
     "name": "stderr",
     "output_type": "stream",
     "text": [
      " 38%|███████████████▌                         | 190/500 [00:21<00:35,  8.81it/s]"
     ]
    },
    {
     "name": "stdout",
     "output_type": "stream",
     "text": [
      "Epoch 189, Loss: 0.693267822265625\n",
      "Epoch 190, Loss: 0.6924924850463867\n"
     ]
    },
    {
     "name": "stderr",
     "output_type": "stream",
     "text": [
      " 38%|███████████████▋                         | 192/500 [00:21<00:34,  8.81it/s]"
     ]
    },
    {
     "name": "stdout",
     "output_type": "stream",
     "text": [
      "Epoch 191, Loss: 0.6917238235473633\n",
      "Epoch 192, Loss: 0.690961480140686\n"
     ]
    },
    {
     "name": "stderr",
     "output_type": "stream",
     "text": [
      " 39%|███████████████▉                         | 194/500 [00:22<00:34,  8.91it/s]"
     ]
    },
    {
     "name": "stdout",
     "output_type": "stream",
     "text": [
      "Epoch 193, Loss: 0.6902056336402893\n",
      "Epoch 194, Loss: 0.6894561648368835\n"
     ]
    },
    {
     "name": "stderr",
     "output_type": "stream",
     "text": [
      " 39%|████████████████                         | 196/500 [00:22<00:34,  8.90it/s]"
     ]
    },
    {
     "name": "stdout",
     "output_type": "stream",
     "text": [
      "Epoch 195, Loss: 0.6887128353118896\n",
      "Epoch 196, Loss: 0.6879758834838867\n"
     ]
    },
    {
     "name": "stderr",
     "output_type": "stream",
     "text": [
      " 40%|████████████████▏                        | 198/500 [00:22<00:33,  8.92it/s]"
     ]
    },
    {
     "name": "stdout",
     "output_type": "stream",
     "text": [
      "Epoch 197, Loss: 0.6872449517250061\n",
      "Epoch 198, Loss: 0.6865202784538269\n"
     ]
    },
    {
     "name": "stderr",
     "output_type": "stream",
     "text": [
      " 40%|████████████████▍                        | 200/500 [00:22<00:34,  8.80it/s]"
     ]
    },
    {
     "name": "stdout",
     "output_type": "stream",
     "text": [
      "Epoch 199, Loss: 0.6858014464378357\n",
      "Epoch 200, Loss: 0.6850886344909668\n"
     ]
    },
    {
     "name": "stderr",
     "output_type": "stream",
     "text": [
      " 40%|████████████████▌                        | 202/500 [00:23<00:34,  8.73it/s]"
     ]
    },
    {
     "name": "stdout",
     "output_type": "stream",
     "text": [
      "Epoch 201, Loss: 0.6843816637992859\n",
      "Epoch 202, Loss: 0.6836805939674377\n"
     ]
    },
    {
     "name": "stderr",
     "output_type": "stream",
     "text": [
      " 41%|████████████████▋                        | 204/500 [00:23<00:33,  8.80it/s]"
     ]
    },
    {
     "name": "stdout",
     "output_type": "stream",
     "text": [
      "Epoch 203, Loss: 0.6829851865768433\n",
      "Epoch 204, Loss: 0.682295560836792\n"
     ]
    },
    {
     "name": "stderr",
     "output_type": "stream",
     "text": [
      " 41%|████████████████▉                        | 206/500 [00:23<00:33,  8.80it/s]"
     ]
    },
    {
     "name": "stdout",
     "output_type": "stream",
     "text": [
      "Epoch 205, Loss: 0.6816115379333496\n",
      "Epoch 206, Loss: 0.6809331178665161\n"
     ]
    },
    {
     "name": "stderr",
     "output_type": "stream",
     "text": [
      " 42%|█████████████████                        | 208/500 [00:23<00:32,  8.87it/s]"
     ]
    },
    {
     "name": "stdout",
     "output_type": "stream",
     "text": [
      "Epoch 207, Loss: 0.6802602410316467\n",
      "Epoch 208, Loss: 0.6795929074287415\n"
     ]
    },
    {
     "name": "stderr",
     "output_type": "stream",
     "text": [
      " 42%|█████████████████▏                       | 210/500 [00:23<00:32,  8.86it/s]"
     ]
    },
    {
     "name": "stdout",
     "output_type": "stream",
     "text": [
      "Epoch 209, Loss: 0.6789308786392212\n",
      "Epoch 210, Loss: 0.6782742142677307\n"
     ]
    },
    {
     "name": "stderr",
     "output_type": "stream",
     "text": [
      " 42%|█████████████████▍                       | 212/500 [00:24<00:32,  8.81it/s]"
     ]
    },
    {
     "name": "stdout",
     "output_type": "stream",
     "text": [
      "Epoch 211, Loss: 0.6776227951049805\n",
      "Epoch 212, Loss: 0.67697674036026\n"
     ]
    },
    {
     "name": "stderr",
     "output_type": "stream",
     "text": [
      " 43%|█████████████████▌                       | 214/500 [00:24<00:32,  8.73it/s]"
     ]
    },
    {
     "name": "stdout",
     "output_type": "stream",
     "text": [
      "Epoch 213, Loss: 0.6763357520103455\n",
      "Epoch 214, Loss: 0.6756999492645264\n"
     ]
    },
    {
     "name": "stderr",
     "output_type": "stream",
     "text": [
      " 43%|█████████████████▋                       | 216/500 [00:24<00:32,  8.75it/s]"
     ]
    },
    {
     "name": "stdout",
     "output_type": "stream",
     "text": [
      "Epoch 215, Loss: 0.675069272518158\n",
      "Epoch 216, Loss: 0.6744434833526611\n"
     ]
    },
    {
     "name": "stderr",
     "output_type": "stream",
     "text": [
      " 44%|█████████████████▉                       | 218/500 [00:24<00:31,  8.83it/s]"
     ]
    },
    {
     "name": "stdout",
     "output_type": "stream",
     "text": [
      "Epoch 217, Loss: 0.6738227605819702\n",
      "Epoch 218, Loss: 0.6732069253921509\n"
     ]
    },
    {
     "name": "stderr",
     "output_type": "stream",
     "text": [
      " 44%|██████████████████                       | 220/500 [00:25<00:31,  8.82it/s]"
     ]
    },
    {
     "name": "stdout",
     "output_type": "stream",
     "text": [
      "Epoch 219, Loss: 0.6725959777832031\n",
      "Epoch 220, Loss: 0.6719898581504822\n"
     ]
    },
    {
     "name": "stderr",
     "output_type": "stream",
     "text": [
      " 44%|██████████████████▏                      | 222/500 [00:25<00:31,  8.77it/s]"
     ]
    },
    {
     "name": "stdout",
     "output_type": "stream",
     "text": [
      "Epoch 221, Loss: 0.671388566493988\n",
      "Epoch 222, Loss: 0.6707920432090759\n"
     ]
    },
    {
     "name": "stderr",
     "output_type": "stream",
     "text": [
      " 45%|██████████████████▎                      | 224/500 [00:25<00:31,  8.87it/s]"
     ]
    },
    {
     "name": "stdout",
     "output_type": "stream",
     "text": [
      "Epoch 223, Loss: 0.6702001094818115\n",
      "Epoch 224, Loss: 0.6696128845214844\n"
     ]
    },
    {
     "name": "stderr",
     "output_type": "stream",
     "text": [
      " 45%|██████████████████▌                      | 226/500 [00:25<00:31,  8.83it/s]"
     ]
    },
    {
     "name": "stdout",
     "output_type": "stream",
     "text": [
      "Epoch 225, Loss: 0.6690301299095154\n",
      "Epoch 226, Loss: 0.6684519648551941\n"
     ]
    },
    {
     "name": "stderr",
     "output_type": "stream",
     "text": [
      " 46%|██████████████████▋                      | 228/500 [00:25<00:30,  8.82it/s]"
     ]
    },
    {
     "name": "stdout",
     "output_type": "stream",
     "text": [
      "Epoch 227, Loss: 0.6678783297538757\n",
      "Epoch 228, Loss: 0.667309045791626\n"
     ]
    },
    {
     "name": "stderr",
     "output_type": "stream",
     "text": [
      " 46%|██████████████████▊                      | 230/500 [00:26<00:30,  8.82it/s]"
     ]
    },
    {
     "name": "stdout",
     "output_type": "stream",
     "text": [
      "Epoch 229, Loss: 0.6667441725730896\n",
      "Epoch 230, Loss: 0.6661835312843323\n"
     ]
    },
    {
     "name": "stderr",
     "output_type": "stream",
     "text": [
      " 46%|███████████████████                      | 232/500 [00:26<00:30,  8.78it/s]"
     ]
    },
    {
     "name": "stdout",
     "output_type": "stream",
     "text": [
      "Epoch 231, Loss: 0.6656272411346436\n",
      "Epoch 232, Loss: 0.6650751829147339\n"
     ]
    },
    {
     "name": "stderr",
     "output_type": "stream",
     "text": [
      " 47%|███████████████████▏                     | 234/500 [00:26<00:29,  8.89it/s]"
     ]
    },
    {
     "name": "stdout",
     "output_type": "stream",
     "text": [
      "Epoch 233, Loss: 0.6645272970199585\n",
      "Epoch 234, Loss: 0.6639835238456726\n"
     ]
    },
    {
     "name": "stderr",
     "output_type": "stream",
     "text": [
      " 47%|███████████████████▎                     | 236/500 [00:26<00:29,  8.80it/s]"
     ]
    },
    {
     "name": "stdout",
     "output_type": "stream",
     "text": [
      "Epoch 235, Loss: 0.6634439826011658\n",
      "Epoch 236, Loss: 0.6629085540771484\n"
     ]
    },
    {
     "name": "stderr",
     "output_type": "stream",
     "text": [
      " 48%|███████████████████▌                     | 238/500 [00:27<00:29,  8.90it/s]"
     ]
    },
    {
     "name": "stdout",
     "output_type": "stream",
     "text": [
      "Epoch 237, Loss: 0.662377119064331\n",
      "Epoch 238, Loss: 0.6618496775627136\n"
     ]
    },
    {
     "name": "stderr",
     "output_type": "stream",
     "text": [
      " 48%|███████████████████▋                     | 240/500 [00:27<00:29,  8.86it/s]"
     ]
    },
    {
     "name": "stdout",
     "output_type": "stream",
     "text": [
      "Epoch 239, Loss: 0.6613262295722961\n",
      "Epoch 240, Loss: 0.6608067154884338\n"
     ]
    },
    {
     "name": "stderr",
     "output_type": "stream",
     "text": [
      " 48%|███████████████████▊                     | 242/500 [00:27<00:29,  8.80it/s]"
     ]
    },
    {
     "name": "stdout",
     "output_type": "stream",
     "text": [
      "Epoch 241, Loss: 0.6602910757064819\n",
      "Epoch 242, Loss: 0.6597793698310852\n"
     ]
    },
    {
     "name": "stderr",
     "output_type": "stream",
     "text": [
      " 49%|████████████████████                     | 244/500 [00:27<00:28,  8.91it/s]"
     ]
    },
    {
     "name": "stdout",
     "output_type": "stream",
     "text": [
      "Epoch 243, Loss: 0.6592714190483093\n",
      "Epoch 244, Loss: 0.6587672829627991\n"
     ]
    },
    {
     "name": "stderr",
     "output_type": "stream",
     "text": [
      " 49%|████████████████████▏                    | 246/500 [00:28<00:28,  8.80it/s]"
     ]
    },
    {
     "name": "stdout",
     "output_type": "stream",
     "text": [
      "Epoch 245, Loss: 0.6582669019699097\n",
      "Epoch 246, Loss: 0.6577701568603516\n"
     ]
    },
    {
     "name": "stderr",
     "output_type": "stream",
     "text": [
      " 50%|████████████████████▎                    | 248/500 [00:28<00:28,  8.82it/s]"
     ]
    },
    {
     "name": "stdout",
     "output_type": "stream",
     "text": [
      "Epoch 247, Loss: 0.6572771668434143\n",
      "Epoch 248, Loss: 0.6567878127098083\n"
     ]
    },
    {
     "name": "stderr",
     "output_type": "stream",
     "text": [
      " 50%|████████████████████▌                    | 250/500 [00:28<00:28,  8.82it/s]"
     ]
    },
    {
     "name": "stdout",
     "output_type": "stream",
     "text": [
      "Epoch 249, Loss: 0.6563020348548889\n",
      "Epoch 250, Loss: 0.655819833278656\n"
     ]
    },
    {
     "name": "stderr",
     "output_type": "stream",
     "text": [
      " 50%|████████████████████▋                    | 252/500 [00:28<00:28,  8.75it/s]"
     ]
    },
    {
     "name": "stdout",
     "output_type": "stream",
     "text": [
      "Epoch 251, Loss: 0.6553412079811096\n",
      "Epoch 252, Loss: 0.654866099357605\n"
     ]
    },
    {
     "name": "stderr",
     "output_type": "stream",
     "text": [
      " 51%|████████████████████▊                    | 254/500 [00:28<00:27,  8.85it/s]"
     ]
    },
    {
     "name": "stdout",
     "output_type": "stream",
     "text": [
      "Epoch 253, Loss: 0.6543944478034973\n",
      "Epoch 254, Loss: 0.6539261341094971\n"
     ]
    },
    {
     "name": "stderr",
     "output_type": "stream",
     "text": [
      " 51%|████████████████████▉                    | 256/500 [00:29<00:27,  8.82it/s]"
     ]
    },
    {
     "name": "stdout",
     "output_type": "stream",
     "text": [
      "Epoch 255, Loss: 0.6534612774848938\n",
      "Epoch 256, Loss: 0.6529998183250427\n"
     ]
    },
    {
     "name": "stderr",
     "output_type": "stream",
     "text": [
      " 52%|█████████████████████▏                   | 258/500 [00:29<00:27,  8.92it/s]"
     ]
    },
    {
     "name": "stdout",
     "output_type": "stream",
     "text": [
      "Epoch 257, Loss: 0.6525416970252991\n",
      "Epoch 258, Loss: 0.6520867943763733\n"
     ]
    },
    {
     "name": "stderr",
     "output_type": "stream",
     "text": [
      " 52%|█████████████████████▎                   | 260/500 [00:29<00:27,  8.75it/s]"
     ]
    },
    {
     "name": "stdout",
     "output_type": "stream",
     "text": [
      "Epoch 259, Loss: 0.6516352295875549\n",
      "Epoch 260, Loss: 0.6511868238449097\n"
     ]
    },
    {
     "name": "stderr",
     "output_type": "stream",
     "text": [
      " 52%|█████████████████████▍                   | 262/500 [00:29<00:28,  8.28it/s]"
     ]
    },
    {
     "name": "stdout",
     "output_type": "stream",
     "text": [
      "Epoch 261, Loss: 0.6507417559623718\n",
      "Epoch 262, Loss: 0.6502998471260071\n"
     ]
    },
    {
     "name": "stderr",
     "output_type": "stream",
     "text": [
      " 53%|█████████████████████▋                   | 264/500 [00:30<00:28,  8.25it/s]"
     ]
    },
    {
     "name": "stdout",
     "output_type": "stream",
     "text": [
      "Epoch 263, Loss: 0.6498610973358154\n",
      "Epoch 264, Loss: 0.6494253873825073\n"
     ]
    },
    {
     "name": "stderr",
     "output_type": "stream",
     "text": [
      " 53%|█████████████████████▊                   | 266/500 [00:30<00:28,  8.26it/s]"
     ]
    },
    {
     "name": "stdout",
     "output_type": "stream",
     "text": [
      "Epoch 265, Loss: 0.6489927768707275\n",
      "Epoch 266, Loss: 0.6485632061958313\n"
     ]
    },
    {
     "name": "stderr",
     "output_type": "stream",
     "text": [
      " 54%|█████████████████████▉                   | 268/500 [00:30<00:27,  8.41it/s]"
     ]
    },
    {
     "name": "stdout",
     "output_type": "stream",
     "text": [
      "Epoch 267, Loss: 0.6481366753578186\n",
      "Epoch 268, Loss: 0.6477131843566895\n"
     ]
    },
    {
     "name": "stderr",
     "output_type": "stream",
     "text": [
      " 54%|██████████████████████▏                  | 270/500 [00:30<00:26,  8.55it/s]"
     ]
    },
    {
     "name": "stdout",
     "output_type": "stream",
     "text": [
      "Epoch 269, Loss: 0.6472927331924438\n",
      "Epoch 270, Loss: 0.6468751430511475\n"
     ]
    },
    {
     "name": "stderr",
     "output_type": "stream",
     "text": [
      " 54%|██████████████████████▎                  | 272/500 [00:31<00:26,  8.69it/s]"
     ]
    },
    {
     "name": "stdout",
     "output_type": "stream",
     "text": [
      "Epoch 271, Loss: 0.6464605331420898\n",
      "Epoch 272, Loss: 0.6460487246513367\n"
     ]
    },
    {
     "name": "stderr",
     "output_type": "stream",
     "text": [
      " 55%|██████████████████████▍                  | 274/500 [00:31<00:25,  8.73it/s]"
     ]
    },
    {
     "name": "stdout",
     "output_type": "stream",
     "text": [
      "Epoch 273, Loss: 0.6456398963928223\n",
      "Epoch 274, Loss: 0.6452339291572571\n"
     ]
    },
    {
     "name": "stderr",
     "output_type": "stream",
     "text": [
      " 55%|██████████████████████▋                  | 276/500 [00:31<00:25,  8.62it/s]"
     ]
    },
    {
     "name": "stdout",
     "output_type": "stream",
     "text": [
      "Epoch 275, Loss: 0.6448307037353516\n",
      "Epoch 276, Loss: 0.6444302797317505\n"
     ]
    },
    {
     "name": "stderr",
     "output_type": "stream",
     "text": [
      " 56%|██████████████████████▊                  | 278/500 [00:31<00:25,  8.68it/s]"
     ]
    },
    {
     "name": "stdout",
     "output_type": "stream",
     "text": [
      "Epoch 277, Loss: 0.6440325975418091\n",
      "Epoch 278, Loss: 0.6436377167701721\n"
     ]
    },
    {
     "name": "stderr",
     "output_type": "stream",
     "text": [
      " 56%|██████████████████████▉                  | 280/500 [00:31<00:27,  8.02it/s]"
     ]
    },
    {
     "name": "stdout",
     "output_type": "stream",
     "text": [
      "Epoch 279, Loss: 0.6432454586029053\n",
      "Epoch 280, Loss: 0.6428558826446533\n"
     ]
    },
    {
     "name": "stderr",
     "output_type": "stream",
     "text": [
      " 56%|███████████████████████                  | 282/500 [00:32<00:27,  8.04it/s]"
     ]
    },
    {
     "name": "stdout",
     "output_type": "stream",
     "text": [
      "Epoch 281, Loss: 0.6424689292907715\n",
      "Epoch 282, Loss: 0.6420845985412598\n"
     ]
    },
    {
     "name": "stderr",
     "output_type": "stream",
     "text": [
      " 57%|███████████████████████▎                 | 284/500 [00:32<00:25,  8.38it/s]"
     ]
    },
    {
     "name": "stdout",
     "output_type": "stream",
     "text": [
      "Epoch 283, Loss: 0.6417028307914734\n",
      "Epoch 284, Loss: 0.6413238048553467\n"
     ]
    },
    {
     "name": "stderr",
     "output_type": "stream",
     "text": [
      " 57%|███████████████████████▍                 | 286/500 [00:32<00:25,  8.26it/s]"
     ]
    },
    {
     "name": "stdout",
     "output_type": "stream",
     "text": [
      "Epoch 285, Loss: 0.6409471035003662\n",
      "Epoch 286, Loss: 0.6405730247497559\n"
     ]
    },
    {
     "name": "stderr",
     "output_type": "stream",
     "text": [
      " 58%|███████████████████████▌                 | 288/500 [00:32<00:25,  8.42it/s]"
     ]
    },
    {
     "name": "stdout",
     "output_type": "stream",
     "text": [
      "Epoch 287, Loss: 0.6402014493942261\n",
      "Epoch 288, Loss: 0.6398323178291321\n"
     ]
    },
    {
     "name": "stderr",
     "output_type": "stream",
     "text": [
      " 58%|███████████████████████▊                 | 290/500 [00:33<00:24,  8.58it/s]"
     ]
    },
    {
     "name": "stdout",
     "output_type": "stream",
     "text": [
      "Epoch 289, Loss: 0.6394655704498291\n",
      "Epoch 290, Loss: 0.6391012668609619\n"
     ]
    },
    {
     "name": "stderr",
     "output_type": "stream",
     "text": [
      " 58%|███████████████████████▉                 | 292/500 [00:33<00:24,  8.62it/s]"
     ]
    },
    {
     "name": "stdout",
     "output_type": "stream",
     "text": [
      "Epoch 291, Loss: 0.6387394666671753\n",
      "Epoch 292, Loss: 0.6383799314498901\n"
     ]
    },
    {
     "name": "stderr",
     "output_type": "stream",
     "text": [
      " 59%|████████████████████████                 | 294/500 [00:33<00:24,  8.37it/s]"
     ]
    },
    {
     "name": "stdout",
     "output_type": "stream",
     "text": [
      "Epoch 293, Loss: 0.6380226612091064\n",
      "Epoch 294, Loss: 0.6376676559448242\n"
     ]
    },
    {
     "name": "stderr",
     "output_type": "stream",
     "text": [
      " 59%|████████████████████████▎                | 296/500 [00:33<00:23,  8.51it/s]"
     ]
    },
    {
     "name": "stdout",
     "output_type": "stream",
     "text": [
      "Epoch 295, Loss: 0.6373147964477539\n",
      "Epoch 296, Loss: 0.6369642615318298\n"
     ]
    },
    {
     "name": "stderr",
     "output_type": "stream",
     "text": [
      " 60%|████████████████████████▍                | 298/500 [00:34<00:23,  8.47it/s]"
     ]
    },
    {
     "name": "stdout",
     "output_type": "stream",
     "text": [
      "Epoch 297, Loss: 0.6366158127784729\n",
      "Epoch 298, Loss: 0.6362696886062622\n"
     ]
    },
    {
     "name": "stderr",
     "output_type": "stream",
     "text": [
      " 60%|████████████████████████▌                | 300/500 [00:34<00:23,  8.45it/s]"
     ]
    },
    {
     "name": "stdout",
     "output_type": "stream",
     "text": [
      "Epoch 299, Loss: 0.6359255909919739\n",
      "Epoch 300, Loss: 0.635583758354187\n"
     ]
    },
    {
     "name": "stderr",
     "output_type": "stream",
     "text": [
      " 60%|████████████████████████▊                | 302/500 [00:34<00:23,  8.49it/s]"
     ]
    },
    {
     "name": "stdout",
     "output_type": "stream",
     "text": [
      "Epoch 301, Loss: 0.6352440714836121\n",
      "Epoch 302, Loss: 0.634906530380249\n"
     ]
    },
    {
     "name": "stderr",
     "output_type": "stream",
     "text": [
      " 61%|████████████████████████▉                | 304/500 [00:34<00:22,  8.72it/s]"
     ]
    },
    {
     "name": "stdout",
     "output_type": "stream",
     "text": [
      "Epoch 303, Loss: 0.6345711946487427\n",
      "Epoch 304, Loss: 0.6342380046844482\n"
     ]
    },
    {
     "name": "stderr",
     "output_type": "stream",
     "text": [
      " 61%|█████████████████████████                | 306/500 [00:35<00:22,  8.72it/s]"
     ]
    },
    {
     "name": "stdout",
     "output_type": "stream",
     "text": [
      "Epoch 305, Loss: 0.633906900882721\n",
      "Epoch 306, Loss: 0.6335778832435608\n"
     ]
    },
    {
     "name": "stderr",
     "output_type": "stream",
     "text": [
      " 62%|█████████████████████████▎               | 308/500 [00:35<00:22,  8.64it/s]"
     ]
    },
    {
     "name": "stdout",
     "output_type": "stream",
     "text": [
      "Epoch 307, Loss: 0.6332510113716125\n",
      "Epoch 308, Loss: 0.6329262256622314\n"
     ]
    },
    {
     "name": "stderr",
     "output_type": "stream",
     "text": [
      " 62%|█████████████████████████▍               | 310/500 [00:35<00:22,  8.55it/s]"
     ]
    },
    {
     "name": "stdout",
     "output_type": "stream",
     "text": [
      "Epoch 309, Loss: 0.6326034665107727\n",
      "Epoch 310, Loss: 0.6322827935218811\n"
     ]
    },
    {
     "name": "stderr",
     "output_type": "stream",
     "text": [
      " 62%|█████████████████████████▌               | 312/500 [00:35<00:22,  8.49it/s]"
     ]
    },
    {
     "name": "stdout",
     "output_type": "stream",
     "text": [
      "Epoch 311, Loss: 0.6319640278816223\n",
      "Epoch 312, Loss: 0.6316473484039307\n"
     ]
    },
    {
     "name": "stderr",
     "output_type": "stream",
     "text": [
      " 63%|█████████████████████████▋               | 314/500 [00:35<00:21,  8.58it/s]"
     ]
    },
    {
     "name": "stdout",
     "output_type": "stream",
     "text": [
      "Epoch 313, Loss: 0.6313326358795166\n",
      "Epoch 314, Loss: 0.6310198307037354\n"
     ]
    },
    {
     "name": "stderr",
     "output_type": "stream",
     "text": [
      " 63%|█████████████████████████▉               | 316/500 [00:36<00:21,  8.68it/s]"
     ]
    },
    {
     "name": "stdout",
     "output_type": "stream",
     "text": [
      "Epoch 315, Loss: 0.6307091116905212\n",
      "Epoch 316, Loss: 0.6304002404212952\n"
     ]
    },
    {
     "name": "stderr",
     "output_type": "stream",
     "text": [
      " 64%|██████████████████████████               | 318/500 [00:36<00:21,  8.58it/s]"
     ]
    },
    {
     "name": "stdout",
     "output_type": "stream",
     "text": [
      "Epoch 317, Loss: 0.6300932765007019\n",
      "Epoch 318, Loss: 0.629788339138031\n"
     ]
    },
    {
     "name": "stderr",
     "output_type": "stream",
     "text": [
      " 64%|██████████████████████████▏              | 320/500 [00:36<00:20,  8.59it/s]"
     ]
    },
    {
     "name": "stdout",
     "output_type": "stream",
     "text": [
      "Epoch 319, Loss: 0.6294851899147034\n",
      "Epoch 320, Loss: 0.6291839480400085\n"
     ]
    },
    {
     "name": "stderr",
     "output_type": "stream",
     "text": [
      " 64%|██████████████████████████▍              | 322/500 [00:36<00:20,  8.61it/s]"
     ]
    },
    {
     "name": "stdout",
     "output_type": "stream",
     "text": [
      "Epoch 321, Loss: 0.6288845539093018\n",
      "Epoch 322, Loss: 0.6285869479179382\n"
     ]
    },
    {
     "name": "stderr",
     "output_type": "stream",
     "text": [
      " 65%|██████████████████████████▌              | 324/500 [00:37<00:20,  8.57it/s]"
     ]
    },
    {
     "name": "stdout",
     "output_type": "stream",
     "text": [
      "Epoch 323, Loss: 0.6282912492752075\n",
      "Epoch 324, Loss: 0.6279973387718201\n"
     ]
    },
    {
     "name": "stderr",
     "output_type": "stream",
     "text": [
      " 65%|██████████████████████████▋              | 326/500 [00:37<00:20,  8.70it/s]"
     ]
    },
    {
     "name": "stdout",
     "output_type": "stream",
     "text": [
      "Epoch 325, Loss: 0.6277053356170654\n",
      "Epoch 326, Loss: 0.6274150013923645\n"
     ]
    },
    {
     "name": "stderr",
     "output_type": "stream",
     "text": [
      " 66%|██████████████████████████▉              | 328/500 [00:37<00:20,  8.49it/s]"
     ]
    },
    {
     "name": "stdout",
     "output_type": "stream",
     "text": [
      "Epoch 327, Loss: 0.6271264553070068\n",
      "Epoch 328, Loss: 0.6268396973609924\n"
     ]
    },
    {
     "name": "stderr",
     "output_type": "stream",
     "text": [
      " 66%|███████████████████████████              | 330/500 [00:37<00:19,  8.65it/s]"
     ]
    },
    {
     "name": "stdout",
     "output_type": "stream",
     "text": [
      "Epoch 329, Loss: 0.6265547275543213\n",
      "Epoch 330, Loss: 0.6262715458869934\n"
     ]
    },
    {
     "name": "stderr",
     "output_type": "stream",
     "text": [
      " 66%|███████████████████████████▏             | 332/500 [00:38<00:19,  8.48it/s]"
     ]
    },
    {
     "name": "stdout",
     "output_type": "stream",
     "text": [
      "Epoch 331, Loss: 0.6259899139404297\n",
      "Epoch 332, Loss: 0.625710129737854\n"
     ]
    },
    {
     "name": "stderr",
     "output_type": "stream",
     "text": [
      " 67%|███████████████████████████▍             | 334/500 [00:38<00:19,  8.54it/s]"
     ]
    },
    {
     "name": "stdout",
     "output_type": "stream",
     "text": [
      "Epoch 333, Loss: 0.6254319548606873\n",
      "Epoch 334, Loss: 0.6251553893089294\n"
     ]
    },
    {
     "name": "stderr",
     "output_type": "stream",
     "text": [
      " 67%|███████████████████████████▌             | 336/500 [00:38<00:19,  8.44it/s]"
     ]
    },
    {
     "name": "stdout",
     "output_type": "stream",
     "text": [
      "Epoch 335, Loss: 0.6248804330825806\n",
      "Epoch 336, Loss: 0.6246072053909302\n"
     ]
    },
    {
     "name": "stderr",
     "output_type": "stream",
     "text": [
      " 68%|███████████████████████████▋             | 338/500 [00:38<00:18,  8.54it/s]"
     ]
    },
    {
     "name": "stdout",
     "output_type": "stream",
     "text": [
      "Epoch 337, Loss: 0.6243354678153992\n",
      "Epoch 338, Loss: 0.6240653991699219\n"
     ]
    },
    {
     "name": "stderr",
     "output_type": "stream",
     "text": [
      " 68%|███████████████████████████▉             | 340/500 [00:39<00:18,  8.55it/s]"
     ]
    },
    {
     "name": "stdout",
     "output_type": "stream",
     "text": [
      "Epoch 339, Loss: 0.623796820640564\n",
      "Epoch 340, Loss: 0.623529851436615\n"
     ]
    },
    {
     "name": "stderr",
     "output_type": "stream",
     "text": [
      " 68%|████████████████████████████             | 342/500 [00:39<00:18,  8.62it/s]"
     ]
    },
    {
     "name": "stdout",
     "output_type": "stream",
     "text": [
      "Epoch 341, Loss: 0.6232644319534302\n",
      "Epoch 342, Loss: 0.6230006814002991\n"
     ]
    },
    {
     "name": "stderr",
     "output_type": "stream",
     "text": [
      " 69%|████████████████████████████▏            | 344/500 [00:39<00:18,  8.54it/s]"
     ]
    },
    {
     "name": "stdout",
     "output_type": "stream",
     "text": [
      "Epoch 343, Loss: 0.6227383017539978\n",
      "Epoch 344, Loss: 0.6224775910377502\n"
     ]
    },
    {
     "name": "stderr",
     "output_type": "stream",
     "text": [
      " 69%|████████████████████████████▎            | 346/500 [00:39<00:18,  8.54it/s]"
     ]
    },
    {
     "name": "stdout",
     "output_type": "stream",
     "text": [
      "Epoch 345, Loss: 0.6222183108329773\n",
      "Epoch 346, Loss: 0.6219605207443237\n"
     ]
    },
    {
     "name": "stderr",
     "output_type": "stream",
     "text": [
      " 70%|████████████████████████████▌            | 348/500 [00:39<00:17,  8.47it/s]"
     ]
    },
    {
     "name": "stdout",
     "output_type": "stream",
     "text": [
      "Epoch 347, Loss: 0.6217042207717896\n",
      "Epoch 348, Loss: 0.6214494109153748\n"
     ]
    },
    {
     "name": "stderr",
     "output_type": "stream",
     "text": [
      " 70%|████████████████████████████▋            | 350/500 [00:40<00:17,  8.37it/s]"
     ]
    },
    {
     "name": "stdout",
     "output_type": "stream",
     "text": [
      "Epoch 349, Loss: 0.6211959719657898\n",
      "Epoch 350, Loss: 0.6209440231323242\n"
     ]
    },
    {
     "name": "stderr",
     "output_type": "stream",
     "text": [
      " 70%|████████████████████████████▊            | 352/500 [00:40<00:17,  8.39it/s]"
     ]
    },
    {
     "name": "stdout",
     "output_type": "stream",
     "text": [
      "Epoch 351, Loss: 0.6206935048103333\n",
      "Epoch 352, Loss: 0.6204445362091064\n"
     ]
    },
    {
     "name": "stderr",
     "output_type": "stream",
     "text": [
      " 71%|█████████████████████████████            | 354/500 [00:40<00:16,  8.59it/s]"
     ]
    },
    {
     "name": "stdout",
     "output_type": "stream",
     "text": [
      "Epoch 353, Loss: 0.6201968789100647\n",
      "Epoch 354, Loss: 0.6199507713317871\n"
     ]
    },
    {
     "name": "stderr",
     "output_type": "stream",
     "text": [
      " 71%|█████████████████████████████▏           | 356/500 [00:40<00:16,  8.67it/s]"
     ]
    },
    {
     "name": "stdout",
     "output_type": "stream",
     "text": [
      "Epoch 355, Loss: 0.619705855846405\n",
      "Epoch 356, Loss: 0.6194623708724976\n"
     ]
    },
    {
     "name": "stderr",
     "output_type": "stream",
     "text": [
      " 72%|█████████████████████████████▎           | 358/500 [00:41<00:16,  8.74it/s]"
     ]
    },
    {
     "name": "stdout",
     "output_type": "stream",
     "text": [
      "Epoch 357, Loss: 0.6192202568054199\n",
      "Epoch 358, Loss: 0.6189797520637512\n"
     ]
    },
    {
     "name": "stderr",
     "output_type": "stream",
     "text": [
      " 72%|█████████████████████████████▌           | 360/500 [00:41<00:15,  8.78it/s]"
     ]
    },
    {
     "name": "stdout",
     "output_type": "stream",
     "text": [
      "Epoch 359, Loss: 0.6187403202056885\n",
      "Epoch 360, Loss: 0.6185023784637451\n"
     ]
    },
    {
     "name": "stderr",
     "output_type": "stream",
     "text": [
      " 72%|█████████████████████████████▋           | 362/500 [00:41<00:15,  8.77it/s]"
     ]
    },
    {
     "name": "stdout",
     "output_type": "stream",
     "text": [
      "Epoch 361, Loss: 0.6182657480239868\n",
      "Epoch 362, Loss: 0.6180303692817688\n"
     ]
    },
    {
     "name": "stderr",
     "output_type": "stream",
     "text": [
      " 73%|█████████████████████████████▊           | 364/500 [00:41<00:15,  8.51it/s]"
     ]
    },
    {
     "name": "stdout",
     "output_type": "stream",
     "text": [
      "Epoch 363, Loss: 0.6177963018417358\n",
      "Epoch 364, Loss: 0.6175634860992432\n"
     ]
    },
    {
     "name": "stderr",
     "output_type": "stream",
     "text": [
      " 73%|██████████████████████████████           | 366/500 [00:42<00:15,  8.41it/s]"
     ]
    },
    {
     "name": "stdout",
     "output_type": "stream",
     "text": [
      "Epoch 365, Loss: 0.6173319816589355\n",
      "Epoch 366, Loss: 0.6171016693115234\n"
     ]
    },
    {
     "name": "stderr",
     "output_type": "stream",
     "text": [
      " 74%|██████████████████████████████▏          | 368/500 [00:42<00:15,  8.62it/s]"
     ]
    },
    {
     "name": "stdout",
     "output_type": "stream",
     "text": [
      "Epoch 367, Loss: 0.6168726682662964\n",
      "Epoch 368, Loss: 0.6166448593139648\n"
     ]
    },
    {
     "name": "stderr",
     "output_type": "stream",
     "text": [
      " 74%|██████████████████████████████▎          | 370/500 [00:42<00:14,  8.70it/s]"
     ]
    },
    {
     "name": "stdout",
     "output_type": "stream",
     "text": [
      "Epoch 369, Loss: 0.6164184212684631\n",
      "Epoch 370, Loss: 0.6161931157112122\n"
     ]
    },
    {
     "name": "stderr",
     "output_type": "stream",
     "text": [
      " 74%|██████████████████████████████▌          | 372/500 [00:42<00:14,  8.70it/s]"
     ]
    },
    {
     "name": "stdout",
     "output_type": "stream",
     "text": [
      "Epoch 371, Loss: 0.6159690618515015\n",
      "Epoch 372, Loss: 0.615746259689331\n"
     ]
    },
    {
     "name": "stderr",
     "output_type": "stream",
     "text": [
      " 75%|██████████████████████████████▋          | 374/500 [00:42<00:14,  8.80it/s]"
     ]
    },
    {
     "name": "stdout",
     "output_type": "stream",
     "text": [
      "Epoch 373, Loss: 0.6155246496200562\n",
      "Epoch 374, Loss: 0.615304172039032\n"
     ]
    },
    {
     "name": "stderr",
     "output_type": "stream",
     "text": [
      " 75%|██████████████████████████████▊          | 376/500 [00:43<00:14,  8.67it/s]"
     ]
    },
    {
     "name": "stdout",
     "output_type": "stream",
     "text": [
      "Epoch 375, Loss: 0.6150848865509033\n",
      "Epoch 376, Loss: 0.6148667335510254\n"
     ]
    },
    {
     "name": "stderr",
     "output_type": "stream",
     "text": [
      " 76%|██████████████████████████████▉          | 378/500 [00:43<00:13,  8.74it/s]"
     ]
    },
    {
     "name": "stdout",
     "output_type": "stream",
     "text": [
      "Epoch 377, Loss: 0.6146497130393982\n",
      "Epoch 378, Loss: 0.6144337058067322\n"
     ]
    },
    {
     "name": "stderr",
     "output_type": "stream",
     "text": [
      " 76%|███████████████████████████████▏         | 380/500 [00:43<00:13,  8.76it/s]"
     ]
    },
    {
     "name": "stdout",
     "output_type": "stream",
     "text": [
      "Epoch 379, Loss: 0.6142188310623169\n",
      "Epoch 380, Loss: 0.6140050888061523\n"
     ]
    },
    {
     "name": "stderr",
     "output_type": "stream",
     "text": [
      " 76%|███████████████████████████████▎         | 382/500 [00:43<00:13,  8.64it/s]"
     ]
    },
    {
     "name": "stdout",
     "output_type": "stream",
     "text": [
      "Epoch 381, Loss: 0.6137923002243042\n",
      "Epoch 382, Loss: 0.6135807037353516\n"
     ]
    },
    {
     "name": "stderr",
     "output_type": "stream",
     "text": [
      " 77%|███████████████████████████████▍         | 384/500 [00:44<00:13,  8.73it/s]"
     ]
    },
    {
     "name": "stdout",
     "output_type": "stream",
     "text": [
      "Epoch 383, Loss: 0.6133700609207153\n",
      "Epoch 384, Loss: 0.6131606101989746\n"
     ]
    },
    {
     "name": "stderr",
     "output_type": "stream",
     "text": [
      " 77%|███████████████████████████████▋         | 386/500 [00:44<00:13,  8.67it/s]"
     ]
    },
    {
     "name": "stdout",
     "output_type": "stream",
     "text": [
      "Epoch 385, Loss: 0.6129522323608398\n",
      "Epoch 386, Loss: 0.6127448081970215\n"
     ]
    },
    {
     "name": "stderr",
     "output_type": "stream",
     "text": [
      " 78%|███████████████████████████████▊         | 388/500 [00:44<00:12,  8.74it/s]"
     ]
    },
    {
     "name": "stdout",
     "output_type": "stream",
     "text": [
      "Epoch 387, Loss: 0.6125385761260986\n",
      "Epoch 388, Loss: 0.6123334169387817\n"
     ]
    },
    {
     "name": "stderr",
     "output_type": "stream",
     "text": [
      " 78%|███████████████████████████████▉         | 390/500 [00:44<00:12,  8.75it/s]"
     ]
    },
    {
     "name": "stdout",
     "output_type": "stream",
     "text": [
      "Epoch 389, Loss: 0.6121292114257812\n",
      "Epoch 390, Loss: 0.6119261384010315\n"
     ]
    },
    {
     "name": "stderr",
     "output_type": "stream",
     "text": [
      " 78%|████████████████████████████████▏        | 392/500 [00:45<00:12,  8.72it/s]"
     ]
    },
    {
     "name": "stdout",
     "output_type": "stream",
     "text": [
      "Epoch 391, Loss: 0.6117240190505981\n",
      "Epoch 392, Loss: 0.611522912979126\n"
     ]
    },
    {
     "name": "stderr",
     "output_type": "stream",
     "text": [
      " 79%|████████████████████████████████▎        | 394/500 [00:45<00:12,  8.71it/s]"
     ]
    },
    {
     "name": "stdout",
     "output_type": "stream",
     "text": [
      "Epoch 393, Loss: 0.6113227605819702\n",
      "Epoch 394, Loss: 0.61112380027771\n"
     ]
    },
    {
     "name": "stderr",
     "output_type": "stream",
     "text": [
      " 79%|████████████████████████████████▍        | 396/500 [00:45<00:11,  8.76it/s]"
     ]
    },
    {
     "name": "stdout",
     "output_type": "stream",
     "text": [
      "Epoch 395, Loss: 0.6109256744384766\n",
      "Epoch 396, Loss: 0.6107286214828491\n"
     ]
    },
    {
     "name": "stderr",
     "output_type": "stream",
     "text": [
      " 80%|████████████████████████████████▋        | 398/500 [00:45<00:11,  8.77it/s]"
     ]
    },
    {
     "name": "stdout",
     "output_type": "stream",
     "text": [
      "Epoch 397, Loss: 0.6105325818061829\n",
      "Epoch 398, Loss: 0.610337495803833\n"
     ]
    },
    {
     "name": "stderr",
     "output_type": "stream",
     "text": [
      " 80%|████████████████████████████████▊        | 400/500 [00:45<00:11,  8.77it/s]"
     ]
    },
    {
     "name": "stdout",
     "output_type": "stream",
     "text": [
      "Epoch 399, Loss: 0.6101433038711548\n",
      "Epoch 400, Loss: 0.6099501252174377\n"
     ]
    },
    {
     "name": "stderr",
     "output_type": "stream",
     "text": [
      " 80%|████████████████████████████████▉        | 402/500 [00:46<00:11,  8.85it/s]"
     ]
    },
    {
     "name": "stdout",
     "output_type": "stream",
     "text": [
      "Epoch 401, Loss: 0.6097577214241028\n",
      "Epoch 402, Loss: 0.6095663905143738\n"
     ]
    },
    {
     "name": "stderr",
     "output_type": "stream",
     "text": [
      " 81%|█████████████████████████████████▏       | 404/500 [00:46<00:10,  8.79it/s]"
     ]
    },
    {
     "name": "stdout",
     "output_type": "stream",
     "text": [
      "Epoch 403, Loss: 0.6093759536743164\n",
      "Epoch 404, Loss: 0.6091864705085754\n"
     ]
    },
    {
     "name": "stderr",
     "output_type": "stream",
     "text": [
      " 81%|█████████████████████████████████▎       | 406/500 [00:46<00:10,  8.75it/s]"
     ]
    },
    {
     "name": "stdout",
     "output_type": "stream",
     "text": [
      "Epoch 405, Loss: 0.6089978814125061\n",
      "Epoch 406, Loss: 0.6088101863861084\n"
     ]
    },
    {
     "name": "stderr",
     "output_type": "stream",
     "text": [
      " 82%|█████████████████████████████████▍       | 408/500 [00:46<00:10,  8.81it/s]"
     ]
    },
    {
     "name": "stdout",
     "output_type": "stream",
     "text": [
      "Epoch 407, Loss: 0.6086235046386719\n",
      "Epoch 408, Loss: 0.608437716960907\n"
     ]
    },
    {
     "name": "stderr",
     "output_type": "stream",
     "text": [
      " 82%|█████████████████████████████████▌       | 410/500 [00:47<00:10,  8.75it/s]"
     ]
    },
    {
     "name": "stdout",
     "output_type": "stream",
     "text": [
      "Epoch 409, Loss: 0.6082527041435242\n",
      "Epoch 410, Loss: 0.6080687046051025\n"
     ]
    },
    {
     "name": "stderr",
     "output_type": "stream",
     "text": [
      " 82%|█████████████████████████████████▊       | 412/500 [00:47<00:10,  8.80it/s]"
     ]
    },
    {
     "name": "stdout",
     "output_type": "stream",
     "text": [
      "Epoch 411, Loss: 0.6078857183456421\n",
      "Epoch 412, Loss: 0.6077033877372742\n"
     ]
    },
    {
     "name": "stderr",
     "output_type": "stream",
     "text": [
      " 83%|█████████████████████████████████▉       | 414/500 [00:47<00:09,  8.74it/s]"
     ]
    },
    {
     "name": "stdout",
     "output_type": "stream",
     "text": [
      "Epoch 413, Loss: 0.6075219511985779\n",
      "Epoch 414, Loss: 0.6073415279388428\n"
     ]
    },
    {
     "name": "stderr",
     "output_type": "stream",
     "text": [
      " 83%|██████████████████████████████████       | 416/500 [00:47<00:09,  8.78it/s]"
     ]
    },
    {
     "name": "stdout",
     "output_type": "stream",
     "text": [
      "Epoch 415, Loss: 0.607161819934845\n",
      "Epoch 416, Loss: 0.6069830060005188\n"
     ]
    },
    {
     "name": "stderr",
     "output_type": "stream",
     "text": [
      " 84%|██████████████████████████████████▎      | 418/500 [00:47<00:09,  8.80it/s]"
     ]
    },
    {
     "name": "stdout",
     "output_type": "stream",
     "text": [
      "Epoch 417, Loss: 0.6068050861358643\n",
      "Epoch 418, Loss: 0.6066280007362366\n"
     ]
    },
    {
     "name": "stderr",
     "output_type": "stream",
     "text": [
      " 84%|██████████████████████████████████▍      | 420/500 [00:48<00:09,  8.77it/s]"
     ]
    },
    {
     "name": "stdout",
     "output_type": "stream",
     "text": [
      "Epoch 419, Loss: 0.6064518690109253\n",
      "Epoch 420, Loss: 0.6062764525413513\n"
     ]
    },
    {
     "name": "stderr",
     "output_type": "stream",
     "text": [
      " 84%|██████████████████████████████████▌      | 422/500 [00:48<00:08,  8.74it/s]"
     ]
    },
    {
     "name": "stdout",
     "output_type": "stream",
     "text": [
      "Epoch 421, Loss: 0.6061019897460938\n",
      "Epoch 422, Loss: 0.6059283018112183\n"
     ]
    },
    {
     "name": "stderr",
     "output_type": "stream",
     "text": [
      " 85%|██████████████████████████████████▊      | 424/500 [00:48<00:08,  8.79it/s]"
     ]
    },
    {
     "name": "stdout",
     "output_type": "stream",
     "text": [
      "Epoch 423, Loss: 0.6057554483413696\n",
      "Epoch 424, Loss: 0.6055834889411926\n"
     ]
    },
    {
     "name": "stderr",
     "output_type": "stream",
     "text": [
      " 85%|██████████████████████████████████▉      | 426/500 [00:48<00:08,  8.77it/s]"
     ]
    },
    {
     "name": "stdout",
     "output_type": "stream",
     "text": [
      "Epoch 425, Loss: 0.6054123044013977\n",
      "Epoch 426, Loss: 0.6052420139312744\n"
     ]
    },
    {
     "name": "stderr",
     "output_type": "stream",
     "text": [
      " 86%|███████████████████████████████████      | 428/500 [00:49<00:08,  8.78it/s]"
     ]
    },
    {
     "name": "stdout",
     "output_type": "stream",
     "text": [
      "Epoch 427, Loss: 0.6050724983215332\n",
      "Epoch 428, Loss: 0.6049037575721741\n"
     ]
    },
    {
     "name": "stderr",
     "output_type": "stream",
     "text": [
      " 86%|███████████████████████████████████▎     | 430/500 [00:49<00:07,  8.78it/s]"
     ]
    },
    {
     "name": "stdout",
     "output_type": "stream",
     "text": [
      "Epoch 429, Loss: 0.6047358512878418\n",
      "Epoch 430, Loss: 0.6045687794685364\n"
     ]
    },
    {
     "name": "stderr",
     "output_type": "stream",
     "text": [
      " 86%|███████████████████████████████████▍     | 432/500 [00:49<00:07,  8.74it/s]"
     ]
    },
    {
     "name": "stdout",
     "output_type": "stream",
     "text": [
      "Epoch 431, Loss: 0.6044024229049683\n",
      "Epoch 432, Loss: 0.604236900806427\n"
     ]
    },
    {
     "name": "stderr",
     "output_type": "stream",
     "text": [
      " 87%|███████████████████████████████████▌     | 434/500 [00:49<00:07,  8.75it/s]"
     ]
    },
    {
     "name": "stdout",
     "output_type": "stream",
     "text": [
      "Epoch 433, Loss: 0.6040719747543335\n",
      "Epoch 434, Loss: 0.6039078831672668\n"
     ]
    },
    {
     "name": "stderr",
     "output_type": "stream",
     "text": [
      " 87%|███████████████████████████████████▊     | 436/500 [00:50<00:07,  8.70it/s]"
     ]
    },
    {
     "name": "stdout",
     "output_type": "stream",
     "text": [
      "Epoch 435, Loss: 0.6037444472312927\n",
      "Epoch 436, Loss: 0.6035816669464111\n"
     ]
    },
    {
     "name": "stderr",
     "output_type": "stream",
     "text": [
      " 88%|███████████████████████████████████▉     | 438/500 [00:50<00:07,  8.74it/s]"
     ]
    },
    {
     "name": "stdout",
     "output_type": "stream",
     "text": [
      "Epoch 437, Loss: 0.6034197211265564\n",
      "Epoch 438, Loss: 0.6032582521438599\n"
     ]
    },
    {
     "name": "stderr",
     "output_type": "stream",
     "text": [
      " 88%|████████████████████████████████████     | 440/500 [00:50<00:06,  8.71it/s]"
     ]
    },
    {
     "name": "stdout",
     "output_type": "stream",
     "text": [
      "Epoch 439, Loss: 0.6030975580215454\n",
      "Epoch 440, Loss: 0.6029375195503235\n"
     ]
    },
    {
     "name": "stderr",
     "output_type": "stream",
     "text": [
      " 88%|████████████████████████████████████▏    | 442/500 [00:50<00:06,  8.56it/s]"
     ]
    },
    {
     "name": "stdout",
     "output_type": "stream",
     "text": [
      "Epoch 441, Loss: 0.6027780175209045\n",
      "Epoch 442, Loss: 0.6026192903518677\n"
     ]
    },
    {
     "name": "stderr",
     "output_type": "stream",
     "text": [
      " 89%|████████████████████████████████████▍    | 444/500 [00:50<00:06,  8.59it/s]"
     ]
    },
    {
     "name": "stdout",
     "output_type": "stream",
     "text": [
      "Epoch 443, Loss: 0.6024610996246338\n",
      "Epoch 444, Loss: 0.6023035049438477\n"
     ]
    },
    {
     "name": "stderr",
     "output_type": "stream",
     "text": [
      " 89%|████████████████████████████████████▌    | 446/500 [00:51<00:06,  8.59it/s]"
     ]
    },
    {
     "name": "stdout",
     "output_type": "stream",
     "text": [
      "Epoch 445, Loss: 0.6021465063095093\n",
      "Epoch 446, Loss: 0.6019898653030396\n"
     ]
    },
    {
     "name": "stderr",
     "output_type": "stream",
     "text": [
      " 90%|████████████████████████████████████▋    | 448/500 [00:51<00:05,  8.71it/s]"
     ]
    },
    {
     "name": "stdout",
     "output_type": "stream",
     "text": [
      "Epoch 447, Loss: 0.601833701133728\n",
      "Epoch 448, Loss: 0.6016779541969299\n"
     ]
    },
    {
     "name": "stderr",
     "output_type": "stream",
     "text": [
      " 90%|████████████████████████████████████▉    | 450/500 [00:51<00:05,  8.63it/s]"
     ]
    },
    {
     "name": "stdout",
     "output_type": "stream",
     "text": [
      "Epoch 449, Loss: 0.60152268409729\n",
      "Epoch 450, Loss: 0.6013679504394531\n"
     ]
    },
    {
     "name": "stderr",
     "output_type": "stream",
     "text": [
      " 90%|█████████████████████████████████████    | 452/500 [00:51<00:05,  8.62it/s]"
     ]
    },
    {
     "name": "stdout",
     "output_type": "stream",
     "text": [
      "Epoch 451, Loss: 0.6012136340141296\n",
      "Epoch 452, Loss: 0.6010597348213196\n"
     ]
    },
    {
     "name": "stderr",
     "output_type": "stream",
     "text": [
      " 91%|█████████████████████████████████████▏   | 454/500 [00:52<00:05,  8.62it/s]"
     ]
    },
    {
     "name": "stdout",
     "output_type": "stream",
     "text": [
      "Epoch 453, Loss: 0.6009063124656677\n",
      "Epoch 454, Loss: 0.6007534265518188\n"
     ]
    },
    {
     "name": "stderr",
     "output_type": "stream",
     "text": [
      " 91%|█████████████████████████████████████▍   | 456/500 [00:52<00:05,  8.68it/s]"
     ]
    },
    {
     "name": "stdout",
     "output_type": "stream",
     "text": [
      "Epoch 455, Loss: 0.6006008386611938\n",
      "Epoch 456, Loss: 0.6004487872123718\n"
     ]
    },
    {
     "name": "stderr",
     "output_type": "stream",
     "text": [
      " 92%|█████████████████████████████████████▌   | 458/500 [00:52<00:04,  8.77it/s]"
     ]
    },
    {
     "name": "stdout",
     "output_type": "stream",
     "text": [
      "Epoch 457, Loss: 0.600297212600708\n",
      "Epoch 458, Loss: 0.6001461744308472\n"
     ]
    },
    {
     "name": "stderr",
     "output_type": "stream",
     "text": [
      " 92%|█████████████████████████████████████▋   | 460/500 [00:52<00:04,  8.79it/s]"
     ]
    },
    {
     "name": "stdout",
     "output_type": "stream",
     "text": [
      "Epoch 459, Loss: 0.5999956727027893\n",
      "Epoch 460, Loss: 0.5998457074165344\n"
     ]
    },
    {
     "name": "stderr",
     "output_type": "stream",
     "text": [
      " 92%|█████████████████████████████████████▉   | 462/500 [00:53<00:04,  8.65it/s]"
     ]
    },
    {
     "name": "stdout",
     "output_type": "stream",
     "text": [
      "Epoch 461, Loss: 0.5996963381767273\n",
      "Epoch 462, Loss: 0.5995475053787231\n"
     ]
    },
    {
     "name": "stderr",
     "output_type": "stream",
     "text": [
      " 93%|██████████████████████████████████████   | 464/500 [00:53<00:04,  8.43it/s]"
     ]
    },
    {
     "name": "stdout",
     "output_type": "stream",
     "text": [
      "Epoch 463, Loss: 0.599399209022522\n",
      "Epoch 464, Loss: 0.5992515087127686\n"
     ]
    },
    {
     "name": "stderr",
     "output_type": "stream",
     "text": [
      " 93%|██████████████████████████████████████▏  | 466/500 [00:53<00:04,  8.37it/s]"
     ]
    },
    {
     "name": "stdout",
     "output_type": "stream",
     "text": [
      "Epoch 465, Loss: 0.5991043448448181\n",
      "Epoch 466, Loss: 0.5989577174186707\n"
     ]
    },
    {
     "name": "stderr",
     "output_type": "stream",
     "text": [
      " 94%|██████████████████████████████████████▍  | 468/500 [00:53<00:03,  8.25it/s]"
     ]
    },
    {
     "name": "stdout",
     "output_type": "stream",
     "text": [
      "Epoch 467, Loss: 0.5988117456436157\n",
      "Epoch 468, Loss: 0.5986663103103638\n"
     ]
    },
    {
     "name": "stderr",
     "output_type": "stream",
     "text": [
      " 94%|██████████████████████████████████████▌  | 470/500 [00:54<00:03,  8.29it/s]"
     ]
    },
    {
     "name": "stdout",
     "output_type": "stream",
     "text": [
      "Epoch 469, Loss: 0.5985214710235596\n",
      "Epoch 470, Loss: 0.5983771085739136\n"
     ]
    },
    {
     "name": "stderr",
     "output_type": "stream",
     "text": [
      " 94%|██████████████████████████████████████▋  | 472/500 [00:54<00:03,  8.45it/s]"
     ]
    },
    {
     "name": "stdout",
     "output_type": "stream",
     "text": [
      "Epoch 471, Loss: 0.5982334017753601\n",
      "Epoch 472, Loss: 0.5980901718139648\n"
     ]
    },
    {
     "name": "stderr",
     "output_type": "stream",
     "text": [
      " 95%|██████████████████████████████████████▊  | 474/500 [00:54<00:03,  8.47it/s]"
     ]
    },
    {
     "name": "stdout",
     "output_type": "stream",
     "text": [
      "Epoch 473, Loss: 0.5979477167129517\n",
      "Epoch 474, Loss: 0.5978055596351624\n"
     ]
    },
    {
     "name": "stderr",
     "output_type": "stream",
     "text": [
      " 95%|███████████████████████████████████████  | 476/500 [00:54<00:02,  8.61it/s]"
     ]
    },
    {
     "name": "stdout",
     "output_type": "stream",
     "text": [
      "Epoch 475, Loss: 0.5976641178131104\n",
      "Epoch 476, Loss: 0.5975231528282166\n"
     ]
    },
    {
     "name": "stderr",
     "output_type": "stream",
     "text": [
      " 96%|███████████████████████████████████████▏ | 478/500 [00:54<00:02,  8.62it/s]"
     ]
    },
    {
     "name": "stdout",
     "output_type": "stream",
     "text": [
      "Epoch 477, Loss: 0.5973828434944153\n",
      "Epoch 478, Loss: 0.5972429513931274\n"
     ]
    },
    {
     "name": "stderr",
     "output_type": "stream",
     "text": [
      " 96%|███████████████████████████████████████▎ | 480/500 [00:55<00:02,  8.71it/s]"
     ]
    },
    {
     "name": "stdout",
     "output_type": "stream",
     "text": [
      "Epoch 479, Loss: 0.5971035361289978\n",
      "Epoch 480, Loss: 0.5969647765159607\n"
     ]
    },
    {
     "name": "stderr",
     "output_type": "stream",
     "text": [
      " 96%|███████████████████████████████████████▌ | 482/500 [00:55<00:02,  8.81it/s]"
     ]
    },
    {
     "name": "stdout",
     "output_type": "stream",
     "text": [
      "Epoch 481, Loss: 0.5968263745307922\n",
      "Epoch 482, Loss: 0.5966885089874268\n"
     ]
    },
    {
     "name": "stderr",
     "output_type": "stream",
     "text": [
      " 97%|███████████████████████████████████████▋ | 484/500 [00:55<00:01,  8.80it/s]"
     ]
    },
    {
     "name": "stdout",
     "output_type": "stream",
     "text": [
      "Epoch 483, Loss: 0.5965510606765747\n",
      "Epoch 484, Loss: 0.5964141488075256\n"
     ]
    },
    {
     "name": "stderr",
     "output_type": "stream",
     "text": [
      " 97%|███████████████████████████████████████▊ | 486/500 [00:55<00:01,  8.85it/s]"
     ]
    },
    {
     "name": "stdout",
     "output_type": "stream",
     "text": [
      "Epoch 485, Loss: 0.5962775945663452\n",
      "Epoch 486, Loss: 0.5961416363716125\n"
     ]
    },
    {
     "name": "stderr",
     "output_type": "stream",
     "text": [
      " 98%|████████████████████████████████████████ | 488/500 [00:56<00:01,  8.76it/s]"
     ]
    },
    {
     "name": "stdout",
     "output_type": "stream",
     "text": [
      "Epoch 487, Loss: 0.5960060954093933\n",
      "Epoch 488, Loss: 0.5958709716796875\n"
     ]
    },
    {
     "name": "stderr",
     "output_type": "stream",
     "text": [
      " 98%|████████████████████████████████████████▏| 490/500 [00:56<00:01,  8.66it/s]"
     ]
    },
    {
     "name": "stdout",
     "output_type": "stream",
     "text": [
      "Epoch 489, Loss: 0.5957365036010742\n",
      "Epoch 490, Loss: 0.5956023931503296\n"
     ]
    },
    {
     "name": "stderr",
     "output_type": "stream",
     "text": [
      " 98%|████████████████████████████████████████▎| 492/500 [00:56<00:00,  8.80it/s]"
     ]
    },
    {
     "name": "stdout",
     "output_type": "stream",
     "text": [
      "Epoch 491, Loss: 0.5954688787460327\n",
      "Epoch 492, Loss: 0.5953357219696045\n"
     ]
    },
    {
     "name": "stderr",
     "output_type": "stream",
     "text": [
      " 99%|████████████████████████████████████████▌| 494/500 [00:56<00:00,  8.74it/s]"
     ]
    },
    {
     "name": "stdout",
     "output_type": "stream",
     "text": [
      "Epoch 493, Loss: 0.5952031016349792\n",
      "Epoch 494, Loss: 0.5950708985328674\n"
     ]
    },
    {
     "name": "stderr",
     "output_type": "stream",
     "text": [
      " 99%|████████████████████████████████████████▋| 496/500 [00:56<00:00,  8.87it/s]"
     ]
    },
    {
     "name": "stdout",
     "output_type": "stream",
     "text": [
      "Epoch 495, Loss: 0.5949391722679138\n",
      "Epoch 496, Loss: 0.5948078036308289\n"
     ]
    },
    {
     "name": "stderr",
     "output_type": "stream",
     "text": [
      "100%|████████████████████████████████████████▊| 498/500 [00:57<00:00,  8.85it/s]"
     ]
    },
    {
     "name": "stdout",
     "output_type": "stream",
     "text": [
      "Epoch 497, Loss: 0.5946769118309021\n",
      "Epoch 498, Loss: 0.5945462584495544\n"
     ]
    },
    {
     "name": "stderr",
     "output_type": "stream",
     "text": [
      "100%|█████████████████████████████████████████| 500/500 [00:57<00:00,  8.70it/s]"
     ]
    },
    {
     "name": "stdout",
     "output_type": "stream",
     "text": [
      "Epoch 499, Loss: 0.5944160223007202\n",
      "Epoch 500, Loss: 0.594286322593689\n"
     ]
    },
    {
     "name": "stderr",
     "output_type": "stream",
     "text": [
      "\n"
     ]
    },
    {
     "data": {
      "image/png": "[encoded data removed]",
      "text/plain": [
       "<Figure size 640x480 with 1 Axes>"
      ]
     },
     "metadata": {},
     "output_type": "display_data"
    }
   ],
   "source": [
    "import tensorflow as tf\n",
    "from tensorflow.keras import layers, models, optimizers, losses\n",
    "import numpy as np\n",
    "import matplotlib.pyplot as plt\n",
    "from tqdm import tqdm\n",
    "\n",
    "\n",
    "chromosome = data_[30][['x_vals','y_vals','z_vals']]\n",
    "\n",
    "scaler = StandardScaler()\n",
    "chromosome_scaled = scaler.fit_transform(chromosome)\n",
    "\n",
    "\n",
    "# Hyperparameters\n",
    "nfeat = 2 # Number of encoded features\n",
    "lr = 0.01\n",
    "epochs = 500\n",
    "quiet = False\n",
    "\n",
    "# Assume data is a NumPy array\n",
    "input_dim = chromosome_scaled.shape[1]\n",
    "\n",
    "# Build the autoencoder\n",
    "class Autoencoder(tf.keras.Model):\n",
    "    def __init__(self, input_dim):\n",
    "        super(Autoencoder, self).__init__()\n",
    "        self.encoder = models.Sequential([\n",
    "            layers.Dense(nfeat, activation='relu'),\n",
    "\n",
    "        ])\n",
    "        self.decoder = models.Sequential([\n",
    "            layers.Dense(input_dim, activation='sigmoid')\n",
    "        ])\n",
    "\n",
    "    def call(self, x):\n",
    "        encoded = self.encoder(x)\n",
    "        decoded = self.decoder(encoded)\n",
    "        return decoded\n",
    "\n",
    "    def build(self, input_shape):\n",
    "            self.encoder.build(input_shape)\n",
    "            self.decoder.build((input_shape[0], nfeat))\n",
    "            super().build(input_shape)\n",
    "\n",
    "# Initialize model\n",
    "model = Autoencoder(input_dim)\n",
    "model.build(input_shape=(None, input_dim))\n",
    "optimizer = optimizers.Adam(learning_rate=lr)\n",
    "mse_loss = losses.MeanSquaredError()\n",
    "\n",
    "# Convert data to tensor\n",
    "data_tensor = tf.convert_to_tensor(chromosome_scaled, dtype=tf.float32)\n",
    "\n",
    "# Training loop\n",
    "losses_list = []\n",
    "for epoch in tqdm(range(epochs), disable=quiet):\n",
    "    with tf.GradientTape() as tape:\n",
    "        output = model(data_tensor)\n",
    "        loss = mse_loss(data_tensor, output)\n",
    "    gradients = tape.gradient(loss, model.trainable_variables)\n",
    "    optimizer.apply_gradients(zip(gradients, model.trainable_variables))\n",
    "    losses_list.append(loss.numpy())\n",
    "\n",
    "    if not quiet:\n",
    "        print(f\"Epoch {epoch+1}, Loss: {loss.numpy()}\")\n",
    "\n",
    "# Plot losses\n",
    "plt.figure(2)\n",
    "plt.plot(losses_list)\n",
    "plt.xlabel('Epoch')\n",
    "plt.ylabel('Loss')\n",
    "plt.title('Training Loss')\n",
    "plt.show()\n",
    "\n",
    "# Compute reconstruction error\n",
    "reconstructed = model(data_tensor)\n",
    "errors = tf.reduce_mean(tf.math.squared_difference(data_tensor, reconstructed), axis=1)\n",
    "\n",
    "\n"
   ]
  },
  {
   "cell_type": "code",
   "execution_count": null,
   "id": "2f856535-e0c1-4069-b4df-c2e341588383",
   "metadata": {},
   "outputs": [],
   "source": []
  },
  {
   "cell_type": "code",
   "execution_count": 161,
   "id": "d91976c1-8a32-4f45-a74f-66424d3b5fcc",
   "metadata": {},
   "outputs": [
    {
     "data": {
      "image/png": "[encoded data removed]",
      "text/plain": [
       "<Figure size 1000x400 with 1 Axes>"
      ]
     },
     "metadata": {},
     "output_type": "display_data"
    }
   ],
   "source": [
    "# Reconstruction complète\n",
    "# Ici reconstructed et data_tensor sont dans l'espace original (2 features)\n",
    "# Par exemple, comparer la 1ère feature originale et reconstruite\n",
    "plt.figure(figsize=(10, 4))\n",
    "plt.plot(errors, label='Reconstruit')\n",
    "plt.xlabel('Fenêtre (Index)')\n",
    "plt.ylabel('Valeur normalisée')\n",
    "plt.title('reconstruction ')\n",
    "plt.ylim()\n",
    "plt.legend()\n",
    "plt.show()"
   ]
  },
  {
   "cell_type": "code",
   "execution_count": 151,
   "id": "4892801a-1f0e-4404-a3fe-00b4955abf24",
   "metadata": {},
   "outputs": [
    {
     "data": {
      "image/png": "[encoded data removed]",
      "text/plain": [
       "<Figure size 1000x400 with 1 Axes>"
      ]
     },
     "metadata": {},
     "output_type": "display_data"
    }
   ],
   "source": [
    "# Reconstruction complète\n",
    "# Ici reconstructed et data_tensor sont dans l'espace original (2 features)\n",
    "# Par exemple, comparer la 1ère feature originale et reconstruite\n",
    "plt.figure(figsize=(10, 4))\n",
    "plt.plot(chromosome_scaled, label='Reconstruit')\n",
    "plt.xlabel('Fenêtre (Index)')\n",
    "plt.ylabel('Valeur normalisée')\n",
    "plt.title('reconstruction ')\n",
    "plt.legend()\n",
    "plt.show()"
   ]
  },
  {
   "cell_type": "code",
   "execution_count": null,
   "id": "ec0404f5-9bbd-4c95-930b-9d8f96398a03",
   "metadata": {},
   "outputs": [],
   "source": []
  },
  {
   "cell_type": "code",
   "execution_count": 162,
   "id": "096c7081-d2d0-4e0a-811a-f67496f1ec5a",
   "metadata": {},
   "outputs": [],
   "source": [
    "# Convertir en numpy\n",
    "errors_np = errors.numpy()\n",
    "\n",
    "# Taille de la fenêtre\n",
    "k = 100000\n",
    "# Liste des médianes locales\n",
    "local_medians = np.array([\n",
    "    np.median(errors_np[max(0, i - k//2):min(len(errors_np), i + k//2 + 1)])\n",
    "    for i in range(len(errors_np))\n",
    "])\n",
    "\n",
    "# Re-normaliser\n",
    "normalized_errors = errors_np / local_medians\n"
   ]
  },
  {
   "cell_type": "code",
   "execution_count": 163,
   "id": "9230667d-2e7b-4b42-8ee0-10b4d95932c7",
   "metadata": {},
   "outputs": [
    {
     "data": {
      "image/png": "[encoded data removed]",
      "text/plain": [
       "<Figure size 1000x400 with 1 Axes>"
      ]
     },
     "metadata": {},
     "output_type": "display_data"
    }
   ],
   "source": [
    "# Reconstruction complète\n",
    "# Ici reconstructed et data_tensor sont dans l'espace original (2 features)\n",
    "# Par exemple, comparer la 1ère feature originale et reconstruite\n",
    "plt.figure(figsize=(10, 4))\n",
    "plt.plot(normalized_errors, label='Reconstruit')\n",
    "plt.xlabel('Fenêtre (Index)')\n",
    "plt.ylabel('Valeur normalisée')\n",
    "plt.title('reconstruction ')\n",
    "plt.ylim()\n",
    "plt.legend()\n",
    "plt.show()"
   ]
  },
  {
   "cell_type": "code",
   "execution_count": null,
   "id": "9e646f36-dbc3-4bca-bf3e-8167b5430fd2",
   "metadata": {},
   "outputs": [],
   "source": []
  },
  {
   "cell_type": "code",
   "execution_count": 30,
   "id": "d3ca0c31-1c42-49ac-a728-5ccb4bb67c09",
   "metadata": {},
   "outputs": [],
   "source": []
  },
  {
   "cell_type": "code",
   "execution_count": 145,
   "id": "590e75c7-fdb8-4678-8abf-6a632e1915a9",
   "metadata": {},
   "outputs": [
    {
     "name": "stdout",
     "output_type": "stream",
     "text": [
      "LmjF.01\n",
      "268988\n",
      "268988\n",
      "LmjF.02\n",
      "355712\n",
      "355712\n",
      "LmjF.03\n",
      "384502\n",
      "384502\n",
      "LmjF.04\n",
      "472852\n",
      "472852\n",
      "LmjF.05\n",
      "465823\n",
      "465823\n",
      "LmjF.06\n",
      "516869\n",
      "516869\n",
      "LmjF.07\n",
      "596352\n",
      "596352\n",
      "LmjF.08\n",
      "574960\n",
      "574960\n",
      "LmjF.09\n",
      "573434\n",
      "573434\n",
      "LmjF.10\n",
      "570865\n",
      "570865\n",
      "LmjF.11\n",
      "582573\n",
      "582573\n",
      "LmjF.12\n",
      "675346\n",
      "675346\n",
      "LmjF.13\n",
      "654595\n",
      "654595\n",
      "LmjF.14\n",
      "622644\n",
      "622644\n",
      "LmjF.15\n",
      "629517\n",
      "629517\n",
      "LmjF.16\n",
      "714651\n",
      "714651\n",
      "LmjF.17\n",
      "684829\n",
      "684829\n",
      "LmjF.18\n",
      "739748\n",
      "739748\n",
      "LmjF.19\n",
      "702208\n",
      "702208\n",
      "LmjF.20\n",
      "742537\n",
      "742537\n",
      "LmjF.21\n",
      "772972\n",
      "772972\n",
      "LmjF.22\n",
      "716602\n",
      "716602\n",
      "LmjF.23\n",
      "772565\n",
      "772565\n",
      "LmjF.24\n",
      "840950\n",
      "840950\n",
      "LmjF.25\n",
      "912845\n",
      "912845\n",
      "LmjF.26\n",
      "1091540\n",
      "1091540\n",
      "LmjF.27\n",
      "1130424\n",
      "1130424\n",
      "LmjF.28\n",
      "1160104\n",
      "1160104\n",
      "LmjF.29\n",
      "1212663\n",
      "1212663\n",
      "LmjF.30\n",
      "1403434\n",
      "1403434\n",
      "LmjF.31\n",
      "1484328\n",
      "1484328\n",
      "LmjF.32\n",
      "1604637\n",
      "1604637\n",
      "LmjF.33\n",
      "1583653\n",
      "1583653\n",
      "LmjF.34\n",
      "1866748\n",
      "1866748\n",
      "LmjF.35\n",
      "2090474\n",
      "2090474\n",
      "LmjF.36\n",
      "2682151\n",
      "2682151\n"
     ]
    }
   ],
   "source": [
    "def count_homopolymers(seq, min_length=5):\n",
    "    # Ex : trouve AAAAA ou TTTTT, etc.\n",
    "    pattern = re.compile(rf\"(A{{{min_length},}}|T{{{min_length},}}|C{{{min_length},}}|G{{{min_length},}})\")\n",
    "    return len(pattern.findall(seq.upper()))\n",
    "\n",
    "def load_fasta(fasta_path, window_size=100):\n",
    "    f = FastA(fasta_path)\n",
    "    data = []\n",
    "    \n",
    "    for maseq in f:\n",
    "        print(maseq.name)\n",
    "        features = []\n",
    "\n",
    "        s = DNA(maseq.sequence.upper())\n",
    "        seq = maseq.sequence.upper()\n",
    "        s.window = window_size\n",
    "\n",
    "        #Karlin\n",
    "        df_karlin = pd.read_csv(f\"../data/karlin/{maseq.name}_karlin_{window_size}.csv\")\n",
    "        karlin = df_karlin['Karlin'].tolist()\n",
    "\n",
    "        #Entropy\n",
    "        entropy = s.get_entropy(window_size)\n",
    "        \n",
    "        #Z curve \n",
    "        y_vals = []\n",
    "        x_vals = []\n",
    "        z_vals = []\n",
    "        for base in seq:\n",
    "            if len(x_vals) == 0:\n",
    "                x = 0\n",
    "                y = 0\n",
    "                z = 0\n",
    "            else:\n",
    "                x = x_vals[-1]\n",
    "                y = y_vals[-1]\n",
    "                z = z_vals[-1]\n",
    "            if base == 'A':\n",
    "                x += 1\n",
    "                y += 1\n",
    "                z += 1\n",
    "            elif base == 'C':\n",
    "                x -= 1\n",
    "                y += 1\n",
    "                z -= 1\n",
    "            elif base == 'G':\n",
    "                x += 1\n",
    "                y -= 1\n",
    "                z -= 1\n",
    "            elif base == 'T':\n",
    "                x -= 1\n",
    "                y -= 1\n",
    "                z += 1\n",
    "            x_vals.append(x)\n",
    "            z_vals.append(z)\n",
    "            y_vals.append(y)\n",
    " \n",
    "        \n",
    "   \n",
    "        df= pd.DataFrame({\n",
    "            'karlin': karlin,\n",
    "            'x_vals': x_vals,\n",
    "            'y_vals': y_vals,\n",
    "            'z_vals': z_vals,\n",
    "            'entropy':entropy,\n",
    "        })\n",
    "\n",
    "        data.append(df)\n",
    "    return data\n",
    "\n",
    "data_ = load_fasta(\"../data/Fasta/TriTrypDB-68_LmajorFriedlin_Genome.fasta\")\n",
    "    "
   ]
  },
  {
   "cell_type": "code",
   "execution_count": null,
   "id": "98a8dd49-c8d3-43af-881f-c1fafe16d07f",
   "metadata": {},
   "outputs": [],
   "source": []
  }
 ],
 "metadata": {
  "kernelspec": {
   "display_name": "Python 3 (ipykernel)",
   "language": "python",
   "name": "python3"
  },
  "language_info": {
   "codemirror_mode": {
    "name": "ipython",
    "version": 3
   },
   "file_extension": ".py",
   "mimetype": "text/x-python",
   "name": "python",
   "nbconvert_exporter": "python",
   "pygments_lexer": "ipython3",
   "version": "3.11.11"
  }
 },
 "nbformat": 4,
 "nbformat_minor": 5
}
