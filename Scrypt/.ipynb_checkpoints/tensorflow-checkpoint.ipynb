{
 "cells": [
  {
   "cell_type": "markdown",
   "id": "90811e27-1e6c-44dc-bf32-ed0b85ec3a9a",
   "metadata": {},
   "source": [
    "## Import TensorFlow and other libraries"
   ]
  },
  {
   "cell_type": "code",
   "execution_count": 4,
   "id": "c6bc7fe7-8693-49c7-aa39-a0986640ab0b",
   "metadata": {},
   "outputs": [],
   "source": [
    "import matplotlib.pyplot as plt\n",
    "import numpy as np\n",
    "import pandas as pd\n",
    "import tensorflow as tf\n",
    "\n",
    "from sklearn.metrics import accuracy_score, precision_score, recall_score\n",
    "from sklearn.model_selection import train_test_split\n",
    "from tensorflow.keras import layers, losses, models\n",
    "from tensorflow.keras.datasets import fashion_mnist\n",
    "from tensorflow.keras.models import Model\n",
    "from sklearn.preprocessing import StandardScaler\n",
    "from tensorflow.keras.layers import Input, Conv1D, Conv1DTranspose\n",
    "from tensorflow.keras.optimizers import Adam\n",
    "from sequana import DNA\n",
    "from sequana import FastA"
   ]
  },
  {
   "cell_type": "code",
   "execution_count": 15,
   "id": "2e2f50d8-8055-4ddc-b42c-57c673c3bf77",
   "metadata": {},
   "outputs": [],
   "source": [
    "from Bio import SeqIO\n",
    "import numpy as np\n",
    "\n",
    "def load_fasta(fasta_path, window_size=100):\n",
    "    f = FastA(fasta_path)\n",
    "    features = []\n",
    "    chr_index = {}  # Nouveau : dictionnaire pour stocker les indices de chaque chromosome\n",
    "    current_idx = 0\n",
    "    \n",
    "    for maseq in f:\n",
    "        print(maseq.name)\n",
    "        s = DNA(maseq.sequence.upper())\n",
    "        seq = maseq.sequence.upper()\n",
    "        s.window = window_size\n",
    "\n",
    "        df_karlin = pd.read_csv(f\"../data/karlin/{maseq.name}_karlin_{window_size}.csv\")\n",
    "        karlin = df_karlin['Karlin'].tolist()\n",
    "        gc_skews = s.get_entropy(window_size)\n",
    "\n",
    "      \n",
    "            \n",
    "        \n",
    "        # Assurez-vous que les tailles correspondent\n",
    "        if len(gc_skews) != len(karlin):\n",
    "            print(f\"Warning: mismatch in window count for {maseq.name}\")\n",
    "            print(len(gc_skews))\n",
    "            print(len(karlin))\n",
    "            continue\n",
    "\n",
    "         # Stocker début et fin des fenêtres pour ce chromosome\n",
    "        chr_len = len(karlin)\n",
    "        chr_index[maseq.name] = (current_idx, current_idx + chr_len)\n",
    "        current_idx += chr_len\n",
    "        \n",
    "        # Combine Karlin + GC skew en un vecteur\n",
    "        for k, gc in zip(karlin, gc_skews):\n",
    "            feature_vector = [k, gc]\n",
    "            features.append(feature_vector)\n",
    "\n",
    "    return np.array(features, dtype=np.float32), chr_index\n",
    "    \n"
   ]
  },
  {
   "cell_type": "code",
   "execution_count": 3,
   "id": "10c354f7-6b1a-45f1-a923-04d70d3c91e8",
   "metadata": {},
   "outputs": [],
   "source": [
    "def build_autoencoder(input_length, num_features):\n",
    "    input_layer = Input(shape=(input_length, num_features))\n",
    "\n",
    "    # Encoder\n",
    "    x = Conv1D(32, 3, padding=\"same\", activation=\"relu\")(input_layer)\n",
    "    x = Conv1D(16, 3, padding=\"same\", activation=\"relu\")(x)\n",
    "    \n",
    "    # Decoder\n",
    "    x = Conv1DTranspose(16, 3, padding=\"same\", activation=\"relu\")(x)\n",
    "    x = Conv1DTranspose(num_features, 3, padding=\"same\", activation=\"linear\")(x)\n",
    "\n",
    "    model = Model(inputs=input_layer, outputs=x)\n",
    "    model.compile(optimizer=Adam(1e-3), loss=\"mse\")\n",
    "    return model"
   ]
  },
  {
   "cell_type": "code",
   "execution_count": 7,
   "id": "2ebe0de3-06ab-4468-afbe-b9ec8b22c606",
   "metadata": {},
   "outputs": [
    {
     "name": "stdout",
     "output_type": "stream",
     "text": [
      "LmjF.01\n",
      "LmjF.02\n",
      "LmjF.03\n",
      "LmjF.04\n",
      "LmjF.05\n",
      "LmjF.06\n",
      "LmjF.07\n",
      "LmjF.08\n",
      "LmjF.09\n",
      "LmjF.10\n",
      "LmjF.11\n",
      "LmjF.12\n",
      "LmjF.13\n",
      "LmjF.14\n",
      "LmjF.15\n",
      "LmjF.16\n",
      "LmjF.17\n",
      "LmjF.18\n",
      "LmjF.19\n",
      "LmjF.20\n",
      "LmjF.21\n",
      "LmjF.22\n",
      "LmjF.23\n",
      "LmjF.24\n",
      "LmjF.25\n",
      "LmjF.26\n",
      "LmjF.27\n",
      "LmjF.28\n",
      "LmjF.29\n",
      "LmjF.30\n",
      "LmjF.31\n",
      "LmjF.32\n",
      "LmjF.33\n",
      "LmjF.34\n",
      "LmjF.35\n",
      "LmjF.36\n",
      "Epoch 1/5\n",
      "\u001b[1m128341/128341\u001b[0m \u001b[32m━━━━━━━━━━━━━━━━━━━━\u001b[0m\u001b[37m\u001b[0m \u001b[1m262s\u001b[0m 2ms/step - loss: 0.0533\n",
      "Epoch 2/5\n",
      "\u001b[1m128341/128341\u001b[0m \u001b[32m━━━━━━━━━━━━━━━━━━━━\u001b[0m\u001b[37m\u001b[0m \u001b[1m255s\u001b[0m 2ms/step - loss: 0.0068\n",
      "Epoch 3/5\n",
      "\u001b[1m128341/128341\u001b[0m \u001b[32m━━━━━━━━━━━━━━━━━━━━\u001b[0m\u001b[37m\u001b[0m \u001b[1m262s\u001b[0m 2ms/step - loss: 0.0052\n",
      "Epoch 4/5\n",
      "\u001b[1m128341/128341\u001b[0m \u001b[32m━━━━━━━━━━━━━━━━━━━━\u001b[0m\u001b[37m\u001b[0m \u001b[1m269s\u001b[0m 2ms/step - loss: 0.0039\n",
      "Epoch 5/5\n",
      "\u001b[1m128341/128341\u001b[0m \u001b[32m━━━━━━━━━━━━━━━━━━━━\u001b[0m\u001b[37m\u001b[0m \u001b[1m258s\u001b[0m 2ms/step - loss: 0.0044\n"
     ]
    }
   ],
   "source": [
    "# 1. Chargement\n",
    "X_raw = load_fasta(\"../data/Fasta/TriTrypDB-68_LmajorFriedlin_Genome.fasta\")\n",
    "\n",
    "# 2. Normalisation\n",
    "scaler = StandardScaler()\n",
    "X_scaled = scaler.fit_transform(X_raw)\n",
    "\n",
    "# 3. Préparer pour Conv1D : reshape vers (nb_windows, 1, num_features)\n",
    "X_input = X_scaled.reshape((X_scaled.shape[0], 1, X_scaled.shape[1]))\n",
    "\n",
    "# 4. Création et entraînement du modèle\n",
    "autoencoder = build_autoencoder(input_length=1, num_features=X_input.shape[2])\n",
    "# Entraînement du modèle avec suivi\n",
    "history = autoencoder.fit(\n",
    "    X_input, X_input,\n",
    "    epochs=5,\n",
    "    batch_size=256,\n",
    "    verbose=1\n",
    ")\n"
   ]
  },
  {
   "cell_type": "code",
   "execution_count": 8,
   "id": "2ff87eaf-ea6b-427f-8143-7a023ddb3137",
   "metadata": {},
   "outputs": [
    {
     "ename": "KeyError",
     "evalue": "'val_loss'",
     "output_type": "error",
     "traceback": [
      "\u001b[31m---------------------------------------------------------------------------\u001b[39m",
      "\u001b[31mKeyError\u001b[39m                                  Traceback (most recent call last)",
      "\u001b[36mCell\u001b[39m\u001b[36m \u001b[39m\u001b[32mIn[8]\u001b[39m\u001b[32m, line 2\u001b[39m\n\u001b[32m      1\u001b[39m plt.plot(history.history[\u001b[33m\"\u001b[39m\u001b[33mloss\u001b[39m\u001b[33m\"\u001b[39m], label=\u001b[33m\"\u001b[39m\u001b[33mTraining Loss\u001b[39m\u001b[33m\"\u001b[39m)\n\u001b[32m----> \u001b[39m\u001b[32m2\u001b[39m plt.plot(\u001b[43mhistory\u001b[49m\u001b[43m.\u001b[49m\u001b[43mhistory\u001b[49m\u001b[43m[\u001b[49m\u001b[33;43m\"\u001b[39;49m\u001b[33;43mval_loss\u001b[39;49m\u001b[33;43m\"\u001b[39;49m\u001b[43m]\u001b[49m, label=\u001b[33m\"\u001b[39m\u001b[33mValidation Loss\u001b[39m\u001b[33m\"\u001b[39m)\n\u001b[32m      3\u001b[39m plt.legend()\n",
      "\u001b[31mKeyError\u001b[39m: 'val_loss'"
     ]
    },
    {
     "data": {
      "image/png": "[encoded data removed]",
      "text/plain": [
       "<Figure size 640x480 with 1 Axes>"
      ]
     },
     "metadata": {},
     "output_type": "display_data"
    }
   ],
   "source": [
    "plt.plot(history.history[\"loss\"], label=\"Training Loss\")\n",
    "plt.legend()\n"
   ]
  },
  {
   "cell_type": "code",
   "execution_count": 19,
   "id": "4539b6aa-eedd-4ad0-a34c-76f3ee97e2c1",
   "metadata": {},
   "outputs": [
    {
     "name": "stdout",
     "output_type": "stream",
     "text": [
      "debut\n",
      "\u001b[1m1026722/1026722\u001b[0m \u001b[32m━━━━━━━━━━━━━━━━━━━━\u001b[0m\u001b[37m\u001b[0m \u001b[1m855s\u001b[0m 833us/step\n",
      "fin\n"
     ]
    }
   ],
   "source": [
    "# Reconstruction\n",
    "print(\"debut\")\n",
    "X_pred = autoencoder.predict(X_input)\n",
    "print(\"fin\")"
   ]
  },
  {
   "cell_type": "code",
   "execution_count": null,
   "id": "7af4c521-b16c-4118-a886-28f1feebe9f1",
   "metadata": {},
   "outputs": [],
   "source": []
  },
  {
   "cell_type": "code",
   "execution_count": 30,
   "id": "1563b74b-6f6e-4d0d-a03a-750a43ddf7f5",
   "metadata": {},
   "outputs": [
    {
     "name": "stdout",
     "output_type": "stream",
     "text": [
      "['LmjF.01', 'LmjF.02', 'LmjF.03', 'LmjF.04', 'LmjF.05', 'LmjF.06', 'LmjF.07', 'LmjF.08', 'LmjF.09', 'LmjF.10', 'LmjF.11', 'LmjF.12', 'LmjF.13', 'LmjF.14', 'LmjF.15', 'LmjF.16', 'LmjF.17', 'LmjF.18', 'LmjF.19', 'LmjF.20', 'LmjF.21', 'LmjF.22', 'LmjF.23', 'LmjF.24', 'LmjF.25', 'LmjF.26', 'LmjF.27', 'LmjF.28', 'LmjF.29', 'LmjF.30', 'LmjF.31', 'LmjF.32', 'LmjF.33', 'LmjF.34', 'LmjF.35', 'LmjF.36']\n"
     ]
    },
    {
     "ename": "IndexError",
     "evalue": "index 1 is out of bounds for axis 1 with size 1",
     "output_type": "error",
     "traceback": [
      "\u001b[31m---------------------------------------------------------------------------\u001b[39m",
      "\u001b[31mIndexError\u001b[39m                                Traceback (most recent call last)",
      "\u001b[36mCell\u001b[39m\u001b[36m \u001b[39m\u001b[32mIn[30]\u001b[39m\u001b[32m, line 8\u001b[39m\n\u001b[32m      5\u001b[39m start, end = chr_index[second_chr]\n\u001b[32m      7\u001b[39m \u001b[38;5;66;03m# Karlin original et reconstruit\u001b[39;00m\n\u001b[32m----> \u001b[39m\u001b[32m8\u001b[39m karlin_true = \u001b[43mX_input\u001b[49m\u001b[43m[\u001b[49m\u001b[43mstart\u001b[49m\u001b[43m:\u001b[49m\u001b[43mend\u001b[49m\u001b[43m,\u001b[49m\u001b[43m \u001b[49m\u001b[32;43m1\u001b[39;49m\u001b[43m,\u001b[49m\u001b[43m \u001b[49m\u001b[32;43m0\u001b[39;49m\u001b[43m]\u001b[49m\n\u001b[32m      9\u001b[39m karlin_pred = X_pred[start:end, \u001b[32m1\u001b[39m, \u001b[32m0\u001b[39m]\n\u001b[32m     11\u001b[39m \u001b[38;5;66;03m# Affichage Karlin\u001b[39;00m\n",
      "\u001b[31mIndexError\u001b[39m: index 1 is out of bounds for axis 1 with size 1"
     ]
    }
   ],
   "source": [
    "# Récupère le 2e chromosome\n",
    "chromosomes = list(chr_index.keys())\n",
    "print(chromosomes)\n",
    "second_chr = chromosomes[12]\n",
    "start, end = chr_index[second_chr]\n",
    "\n",
    "# Karlin original et reconstruit\n",
    "karlin_true = X_input[start:end, 0, 1]\n",
    "karlin_pred = X_pred[start:end, 0, 1]\n",
    "\n",
    "# Affichage Karlin\n",
    "plt.figure(figsize=(12, 6))\n",
    "#plt.plot(karlin_true, label=\"Karlin original\", color=\"blue\")\n",
    "plt.plot(karlin_pred, label=\"Karlin reconstruit\", color=\"red\", linestyle=\"--\")\n",
    "plt.title(f\"Karlin - {second_chr}\")\n",
    "plt.xlabel(\"Index des fenêtres\")\n",
    "plt.ylabel(\"Valeur Karlin\")\n",
    "plt.legend()\n",
    "plt.grid(True)\n",
    "plt.show()\n",
    "\n"
   ]
  },
  {
   "cell_type": "code",
   "execution_count": 16,
   "id": "ed4ee3f3-1f0c-4a32-9e57-e6038715b3f7",
   "metadata": {},
   "outputs": [
    {
     "name": "stdout",
     "output_type": "stream",
     "text": [
      "LmjF.01\n",
      "LmjF.02\n",
      "LmjF.03\n",
      "LmjF.04\n",
      "LmjF.05\n",
      "LmjF.06\n",
      "LmjF.07\n",
      "LmjF.08\n",
      "LmjF.09\n",
      "LmjF.10\n",
      "LmjF.11\n",
      "LmjF.12\n",
      "LmjF.13\n",
      "LmjF.14\n",
      "LmjF.15\n",
      "LmjF.16\n",
      "LmjF.17\n",
      "LmjF.18\n",
      "LmjF.19\n",
      "LmjF.20\n",
      "LmjF.21\n",
      "LmjF.22\n",
      "LmjF.23\n",
      "LmjF.24\n",
      "LmjF.25\n",
      "LmjF.26\n",
      "LmjF.27\n",
      "LmjF.28\n",
      "LmjF.29\n",
      "LmjF.30\n",
      "LmjF.31\n",
      "LmjF.32\n",
      "LmjF.33\n",
      "LmjF.34\n",
      "LmjF.35\n",
      "LmjF.36\n"
     ]
    }
   ],
   "source": [
    "test, chr_index = load_fasta(\"../data/Fasta/TriTrypDB-68_LmajorFriedlin_Genome.fasta\")\n"
   ]
  },
  {
   "cell_type": "code",
   "execution_count": null,
   "id": "7e5dbbe0-8769-4ab9-bfdb-55d4a35828a7",
   "metadata": {},
   "outputs": [],
   "source": [
    "X_raw = load_fasta(\"../data/Fasta/TriTrypDB-68_LmajorFriedlin_Genome.fasta\", window_size=100)\n",
    "\n",
    "scaler = StandardScaler()\n",
    "X_scaled = scaler.fit_transform(X_raw)\n",
    "\n",
    "def make_sequences(X, seq_len):\n",
    "    return np.array([X[i:i+seq_len] for i in range(len(X) - seq_len + 1)])\n",
    "\n",
    "sequence_length = 10  # ← ex : 10 fenêtres = 1000 bp\n",
    "X_seq = make_sequences(X_scaled, sequence_length)\n",
    "\n",
    "print(X_seq.shape)  # (n_sequences, 10, 2)"
   ]
  },
  {
   "cell_type": "code",
   "execution_count": 20,
   "id": "58d4a4f6-dbb5-4805-b32e-0ad0fb81de77",
   "metadata": {},
   "outputs": [
    {
     "name": "stdout",
     "output_type": "stream",
     "text": [
      "LmjF.01\n",
      "LmjF.02\n",
      "LmjF.03\n",
      "LmjF.04\n",
      "LmjF.05\n",
      "LmjF.06\n",
      "LmjF.07\n",
      "LmjF.08\n",
      "LmjF.09\n",
      "LmjF.10\n",
      "LmjF.11\n",
      "LmjF.12\n",
      "LmjF.13\n",
      "LmjF.14\n",
      "LmjF.15\n",
      "LmjF.16\n",
      "LmjF.17\n",
      "LmjF.18\n",
      "LmjF.19\n",
      "LmjF.20\n",
      "LmjF.21\n",
      "LmjF.22\n",
      "LmjF.23\n",
      "LmjF.24\n",
      "LmjF.25\n",
      "LmjF.26\n",
      "LmjF.27\n",
      "LmjF.28\n",
      "LmjF.29\n",
      "LmjF.30\n",
      "LmjF.31\n",
      "LmjF.32\n",
      "LmjF.33\n",
      "LmjF.34\n",
      "LmjF.35\n",
      "LmjF.36\n"
     ]
    }
   ],
   "source": [
    "X_raw = load_fasta(\"../data/Fasta/TriTrypDB-68_LmajorFriedlin_Genome.fasta\", window_size=100)\n"
   ]
  },
  {
   "cell_type": "code",
   "execution_count": 23,
   "id": "6c9f0d3c-40e6-4828-94c0-02c719c8d764",
   "metadata": {},
   "outputs": [],
   "source": [
    "# 1. Charger et normaliser les données\n",
    "scaler = StandardScaler()\n",
    "X_scaled = scaler.fit_transform(X_raw)\n",
    "\n",
    "# 2. Créer des séquences de fenêtres\n",
    "def make_sequences(X, seq_len):\n",
    "    return np.array([X[i:i+seq_len] for i in range(len(X) - seq_len + 1)])\n",
    "\n",
    "sequence_length = 10  # Nombre de fenêtres consécutives\n",
    "X_seq = make_sequences(X_scaled, sequence_length)"
   ]
  },
  {
   "cell_type": "code",
   "execution_count": 25,
   "id": "d8de868d-9a84-4109-891d-adad49aa2bfa",
   "metadata": {},
   "outputs": [
    {
     "ename": "NameError",
     "evalue": "name 'X_input' is not defined",
     "output_type": "error",
     "traceback": [
      "\u001b[31m---------------------------------------------------------------------------\u001b[39m",
      "\u001b[31mNameError\u001b[39m                                 Traceback (most recent call last)",
      "\u001b[36mCell\u001b[39m\u001b[36m \u001b[39m\u001b[32mIn[25]\u001b[39m\u001b[32m, line 14\u001b[39m\n\u001b[32m      9\u001b[39m early_stopping = EarlyStopping(monitor=\u001b[33m'\u001b[39m\u001b[33mval_loss\u001b[39m\u001b[33m'\u001b[39m, patience=\u001b[32m10\u001b[39m, restore_best_weights=\u001b[38;5;28;01mTrue\u001b[39;00m)\n\u001b[32m     11\u001b[39m \u001b[38;5;66;03m# 4. Entraîner le modèle avec EarlyStopping\u001b[39;00m\n\u001b[32m     12\u001b[39m \u001b[38;5;66;03m#history = autoencoder.fit(X_seq, X_seq, epochs=50, batch_size=32, validation_split=0.2, callbacks=[early_stopping])\u001b[39;00m\n\u001b[32m     13\u001b[39m history = autoencoder.fit(\n\u001b[32m---> \u001b[39m\u001b[32m14\u001b[39m     \u001b[43mX_input\u001b[49m, X_input,\n\u001b[32m     15\u001b[39m     epochs=\u001b[32m50\u001b[39m,\n\u001b[32m     16\u001b[39m     batch_size=\u001b[32m256\u001b[39m,\n\u001b[32m     17\u001b[39m     verbose=\u001b[32m1\u001b[39m,\n\u001b[32m     18\u001b[39m     callbacks=[early_stopping]\n\u001b[32m     19\u001b[39m )\n",
      "\u001b[31mNameError\u001b[39m: name 'X_input' is not defined"
     ]
    }
   ],
   "source": [
    "from tensorflow.keras.callbacks import EarlyStopping\n",
    "import matplotlib.pyplot as plt\n",
    "import numpy as np\n",
    "\n",
    "\n",
    "\n",
    "# 3. Construire l'autoencodeur et définir EarlyStopping\n",
    "autoencoder = build_autoencoder(input_length=sequence_length, num_features=2)\n",
    "early_stopping = EarlyStopping(monitor='val_loss', patience=10, restore_best_weights=True)\n",
    "\n",
    "# 4. Entraîner le modèle avec EarlyStopping\n",
    "#history = autoencoder.fit(X_seq, X_seq, epochs=50, batch_size=32, validation_split=0.2, callbacks=[early_stopping])\n",
    "history = autoencoder.fit(\n",
    "    X_seq, X_seq,\n",
    "    epochs=50,\n",
    "    batch_size=256,\n",
    "    verbose=1,\n",
    "    callbacks=[early_stopping]\n",
    ")\n"
   ]
  },
  {
   "cell_type": "code",
   "execution_count": null,
   "id": "38e8f9f6-bf2f-4490-ba94-ac8a3eaf2c21",
   "metadata": {},
   "outputs": [],
   "source": [
    "\n",
    "# 5. Visualiser la convergence du modèle\n",
    "plt.plot(history.history['loss'], label='Training Loss')\n",
    "plt.plot(history.history['val_loss'], label='Validation Loss')\n",
    "plt.xlabel('Epochs')\n",
    "plt.ylabel('Loss')\n",
    "plt.legend()\n",
    "plt.title('Convergence du modèle')\n",
    "plt.show()\n",
    "\n",
    "# 6. Faire des prédictions et calculer l'erreur de reconstruction\n",
    "X_pred = autoencoder.predict(X_seq)\n",
    "reconstruction_errors = np.mean((X_seq - X_pred) ** 2, axis=(1, 2))\n",
    "\n",
    "# 7. Détecter les anomalies en fonction de l'erreur de reconstruction\n",
    "threshold = np.mean(reconstruction_errors) + 3 * np.std(reconstruction_errors)\n",
    "anomalies = np.where(reconstruction_errors > threshold)[0]\n",
    "\n",
    "print(f\"{len(anomalies)} anomalies détectées sur {len(X_seq)} séquences.\")"
   ]
  }
 ],
 "metadata": {
  "kernelspec": {
   "display_name": "Python 3 (ipykernel)",
   "language": "python",
   "name": "python3"
  },
  "language_info": {
   "codemirror_mode": {
    "name": "ipython",
    "version": 3
   },
   "file_extension": ".py",
   "mimetype": "text/x-python",
   "name": "python",
   "nbconvert_exporter": "python",
   "pygments_lexer": "ipython3",
   "version": "3.11.11"
  }
 },
 "nbformat": 4,
 "nbformat_minor": 5
}
